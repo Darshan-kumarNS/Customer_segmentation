{
 "cells": [
  {
   "cell_type": "markdown",
   "metadata": {},
   "source": [
    "# Customer segmentation"
   ]
  },
  {
   "cell_type": "markdown",
   "metadata": {},
   "source": [
    "### Importing libraries"
   ]
  },
  {
   "cell_type": "code",
   "execution_count": 1,
   "metadata": {},
   "outputs": [],
   "source": [
    "import pandas as pd\n",
    "import numpy as np\n",
    "import matplotlib.pyplot as plt\n",
    "import seaborn as sns\n",
    "%matplotlib inline\n",
    "import pickle \n",
    "import joblib\n",
    "import warnings\n",
    "warnings.filterwarnings(\"ignore\")"
   ]
  },
  {
   "cell_type": "code",
   "execution_count": 2,
   "metadata": {},
   "outputs": [
    {
     "name": "stdout",
     "output_type": "stream",
     "text": [
      "Dataset with rows 541909 and columns 8\n"
     ]
    },
    {
     "data": {
      "text/html": [
       "<div>\n",
       "<style scoped>\n",
       "    .dataframe tbody tr th:only-of-type {\n",
       "        vertical-align: middle;\n",
       "    }\n",
       "\n",
       "    .dataframe tbody tr th {\n",
       "        vertical-align: top;\n",
       "    }\n",
       "\n",
       "    .dataframe thead th {\n",
       "        text-align: right;\n",
       "    }\n",
       "</style>\n",
       "<table border=\"1\" class=\"dataframe\">\n",
       "  <thead>\n",
       "    <tr style=\"text-align: right;\">\n",
       "      <th></th>\n",
       "      <th>InvoiceNo</th>\n",
       "      <th>StockCode</th>\n",
       "      <th>Description</th>\n",
       "      <th>Quantity</th>\n",
       "      <th>InvoiceDate</th>\n",
       "      <th>UnitPrice</th>\n",
       "      <th>CustomerID</th>\n",
       "      <th>Country</th>\n",
       "    </tr>\n",
       "  </thead>\n",
       "  <tbody>\n",
       "    <tr>\n",
       "      <th>0</th>\n",
       "      <td>536365</td>\n",
       "      <td>85123A</td>\n",
       "      <td>WHITE HANGING HEART T-LIGHT HOLDER</td>\n",
       "      <td>6</td>\n",
       "      <td>12/1/2010 8:26</td>\n",
       "      <td>2.55</td>\n",
       "      <td>17850.0</td>\n",
       "      <td>United Kingdom</td>\n",
       "    </tr>\n",
       "    <tr>\n",
       "      <th>1</th>\n",
       "      <td>536365</td>\n",
       "      <td>71053</td>\n",
       "      <td>WHITE METAL LANTERN</td>\n",
       "      <td>6</td>\n",
       "      <td>12/1/2010 8:26</td>\n",
       "      <td>3.39</td>\n",
       "      <td>17850.0</td>\n",
       "      <td>United Kingdom</td>\n",
       "    </tr>\n",
       "    <tr>\n",
       "      <th>2</th>\n",
       "      <td>536365</td>\n",
       "      <td>84406B</td>\n",
       "      <td>CREAM CUPID HEARTS COAT HANGER</td>\n",
       "      <td>8</td>\n",
       "      <td>12/1/2010 8:26</td>\n",
       "      <td>2.75</td>\n",
       "      <td>17850.0</td>\n",
       "      <td>United Kingdom</td>\n",
       "    </tr>\n",
       "    <tr>\n",
       "      <th>3</th>\n",
       "      <td>536365</td>\n",
       "      <td>84029G</td>\n",
       "      <td>KNITTED UNION FLAG HOT WATER BOTTLE</td>\n",
       "      <td>6</td>\n",
       "      <td>12/1/2010 8:26</td>\n",
       "      <td>3.39</td>\n",
       "      <td>17850.0</td>\n",
       "      <td>United Kingdom</td>\n",
       "    </tr>\n",
       "    <tr>\n",
       "      <th>4</th>\n",
       "      <td>536365</td>\n",
       "      <td>84029E</td>\n",
       "      <td>RED WOOLLY HOTTIE WHITE HEART.</td>\n",
       "      <td>6</td>\n",
       "      <td>12/1/2010 8:26</td>\n",
       "      <td>3.39</td>\n",
       "      <td>17850.0</td>\n",
       "      <td>United Kingdom</td>\n",
       "    </tr>\n",
       "  </tbody>\n",
       "</table>\n",
       "</div>"
      ],
      "text/plain": [
       "  InvoiceNo StockCode                          Description  Quantity  \\\n",
       "0    536365    85123A   WHITE HANGING HEART T-LIGHT HOLDER         6   \n",
       "1    536365     71053                  WHITE METAL LANTERN         6   \n",
       "2    536365    84406B       CREAM CUPID HEARTS COAT HANGER         8   \n",
       "3    536365    84029G  KNITTED UNION FLAG HOT WATER BOTTLE         6   \n",
       "4    536365    84029E       RED WOOLLY HOTTIE WHITE HEART.         6   \n",
       "\n",
       "      InvoiceDate  UnitPrice  CustomerID         Country  \n",
       "0  12/1/2010 8:26       2.55     17850.0  United Kingdom  \n",
       "1  12/1/2010 8:26       3.39     17850.0  United Kingdom  \n",
       "2  12/1/2010 8:26       2.75     17850.0  United Kingdom  \n",
       "3  12/1/2010 8:26       3.39     17850.0  United Kingdom  \n",
       "4  12/1/2010 8:26       3.39     17850.0  United Kingdom  "
      ]
     },
     "execution_count": 2,
     "metadata": {},
     "output_type": "execute_result"
    }
   ],
   "source": [
    "df=pd.read_csv(\"Customer Segmentation.csv\",encoding='latin')\n",
    "print(\"Dataset with rows {} and columns {}\".format(df.shape[0],df.shape[1]))\n",
    "df.head()"
   ]
  },
  {
   "cell_type": "markdown",
   "metadata": {},
   "source": [
    "## EDA - Exploratory Data Analysis"
   ]
  },
  {
   "cell_type": "code",
   "execution_count": 3,
   "metadata": {},
   "outputs": [
    {
     "data": {
      "text/plain": [
       "<bound method DataFrame.info of        InvoiceNo StockCode                          Description  Quantity  \\\n",
       "0         536365    85123A   WHITE HANGING HEART T-LIGHT HOLDER         6   \n",
       "1         536365     71053                  WHITE METAL LANTERN         6   \n",
       "2         536365    84406B       CREAM CUPID HEARTS COAT HANGER         8   \n",
       "3         536365    84029G  KNITTED UNION FLAG HOT WATER BOTTLE         6   \n",
       "4         536365    84029E       RED WOOLLY HOTTIE WHITE HEART.         6   \n",
       "...          ...       ...                                  ...       ...   \n",
       "541904    581587     22613          PACK OF 20 SPACEBOY NAPKINS        12   \n",
       "541905    581587     22899         CHILDREN'S APRON DOLLY GIRL          6   \n",
       "541906    581587     23254        CHILDRENS CUTLERY DOLLY GIRL          4   \n",
       "541907    581587     23255      CHILDRENS CUTLERY CIRCUS PARADE         4   \n",
       "541908    581587     22138        BAKING SET 9 PIECE RETROSPOT          3   \n",
       "\n",
       "            InvoiceDate  UnitPrice  CustomerID         Country  \n",
       "0        12/1/2010 8:26       2.55     17850.0  United Kingdom  \n",
       "1        12/1/2010 8:26       3.39     17850.0  United Kingdom  \n",
       "2        12/1/2010 8:26       2.75     17850.0  United Kingdom  \n",
       "3        12/1/2010 8:26       3.39     17850.0  United Kingdom  \n",
       "4        12/1/2010 8:26       3.39     17850.0  United Kingdom  \n",
       "...                 ...        ...         ...             ...  \n",
       "541904  12/9/2011 12:50       0.85     12680.0          France  \n",
       "541905  12/9/2011 12:50       2.10     12680.0          France  \n",
       "541906  12/9/2011 12:50       4.15     12680.0          France  \n",
       "541907  12/9/2011 12:50       4.15     12680.0          France  \n",
       "541908  12/9/2011 12:50       4.95     12680.0          France  \n",
       "\n",
       "[541909 rows x 8 columns]>"
      ]
     },
     "execution_count": 3,
     "metadata": {},
     "output_type": "execute_result"
    }
   ],
   "source": [
    "df.info"
   ]
  },
  {
   "cell_type": "code",
   "execution_count": 4,
   "metadata": {},
   "outputs": [
    {
     "data": {
      "text/html": [
       "<div>\n",
       "<style scoped>\n",
       "    .dataframe tbody tr th:only-of-type {\n",
       "        vertical-align: middle;\n",
       "    }\n",
       "\n",
       "    .dataframe tbody tr th {\n",
       "        vertical-align: top;\n",
       "    }\n",
       "\n",
       "    .dataframe thead th {\n",
       "        text-align: right;\n",
       "    }\n",
       "</style>\n",
       "<table border=\"1\" class=\"dataframe\">\n",
       "  <thead>\n",
       "    <tr style=\"text-align: right;\">\n",
       "      <th></th>\n",
       "      <th>Quantity</th>\n",
       "      <th>UnitPrice</th>\n",
       "      <th>CustomerID</th>\n",
       "    </tr>\n",
       "  </thead>\n",
       "  <tbody>\n",
       "    <tr>\n",
       "      <th>count</th>\n",
       "      <td>541909.000000</td>\n",
       "      <td>541909.000000</td>\n",
       "      <td>406829.000000</td>\n",
       "    </tr>\n",
       "    <tr>\n",
       "      <th>mean</th>\n",
       "      <td>9.552250</td>\n",
       "      <td>4.611114</td>\n",
       "      <td>15287.690570</td>\n",
       "    </tr>\n",
       "    <tr>\n",
       "      <th>std</th>\n",
       "      <td>218.081158</td>\n",
       "      <td>96.759853</td>\n",
       "      <td>1713.600303</td>\n",
       "    </tr>\n",
       "    <tr>\n",
       "      <th>min</th>\n",
       "      <td>-80995.000000</td>\n",
       "      <td>-11062.060000</td>\n",
       "      <td>12346.000000</td>\n",
       "    </tr>\n",
       "    <tr>\n",
       "      <th>25%</th>\n",
       "      <td>1.000000</td>\n",
       "      <td>1.250000</td>\n",
       "      <td>13953.000000</td>\n",
       "    </tr>\n",
       "    <tr>\n",
       "      <th>50%</th>\n",
       "      <td>3.000000</td>\n",
       "      <td>2.080000</td>\n",
       "      <td>15152.000000</td>\n",
       "    </tr>\n",
       "    <tr>\n",
       "      <th>75%</th>\n",
       "      <td>10.000000</td>\n",
       "      <td>4.130000</td>\n",
       "      <td>16791.000000</td>\n",
       "    </tr>\n",
       "    <tr>\n",
       "      <th>max</th>\n",
       "      <td>80995.000000</td>\n",
       "      <td>38970.000000</td>\n",
       "      <td>18287.000000</td>\n",
       "    </tr>\n",
       "  </tbody>\n",
       "</table>\n",
       "</div>"
      ],
      "text/plain": [
       "            Quantity      UnitPrice     CustomerID\n",
       "count  541909.000000  541909.000000  406829.000000\n",
       "mean        9.552250       4.611114   15287.690570\n",
       "std       218.081158      96.759853    1713.600303\n",
       "min    -80995.000000  -11062.060000   12346.000000\n",
       "25%         1.000000       1.250000   13953.000000\n",
       "50%         3.000000       2.080000   15152.000000\n",
       "75%        10.000000       4.130000   16791.000000\n",
       "max     80995.000000   38970.000000   18287.000000"
      ]
     },
     "execution_count": 4,
     "metadata": {},
     "output_type": "execute_result"
    }
   ],
   "source": [
    "df.describe()"
   ]
  },
  {
   "cell_type": "code",
   "execution_count": 5,
   "metadata": {},
   "outputs": [
    {
     "data": {
      "text/html": [
       "<div>\n",
       "<style scoped>\n",
       "    .dataframe tbody tr th:only-of-type {\n",
       "        vertical-align: middle;\n",
       "    }\n",
       "\n",
       "    .dataframe tbody tr th {\n",
       "        vertical-align: top;\n",
       "    }\n",
       "\n",
       "    .dataframe thead th {\n",
       "        text-align: right;\n",
       "    }\n",
       "</style>\n",
       "<table border=\"1\" class=\"dataframe\">\n",
       "  <thead>\n",
       "    <tr style=\"text-align: right;\">\n",
       "      <th></th>\n",
       "      <th>InvoiceNo</th>\n",
       "      <th>StockCode</th>\n",
       "      <th>Description</th>\n",
       "      <th>Quantity</th>\n",
       "      <th>InvoiceDate</th>\n",
       "      <th>UnitPrice</th>\n",
       "      <th>CustomerID</th>\n",
       "      <th>Country</th>\n",
       "    </tr>\n",
       "  </thead>\n",
       "  <tbody>\n",
       "    <tr>\n",
       "      <th>count</th>\n",
       "      <td>541909</td>\n",
       "      <td>541909</td>\n",
       "      <td>540455</td>\n",
       "      <td>541909.000000</td>\n",
       "      <td>541909</td>\n",
       "      <td>541909.000000</td>\n",
       "      <td>406829.000000</td>\n",
       "      <td>541909</td>\n",
       "    </tr>\n",
       "    <tr>\n",
       "      <th>unique</th>\n",
       "      <td>25900</td>\n",
       "      <td>4070</td>\n",
       "      <td>4223</td>\n",
       "      <td>NaN</td>\n",
       "      <td>23260</td>\n",
       "      <td>NaN</td>\n",
       "      <td>NaN</td>\n",
       "      <td>38</td>\n",
       "    </tr>\n",
       "    <tr>\n",
       "      <th>top</th>\n",
       "      <td>573585</td>\n",
       "      <td>85123A</td>\n",
       "      <td>WHITE HANGING HEART T-LIGHT HOLDER</td>\n",
       "      <td>NaN</td>\n",
       "      <td>10/31/2011 14:41</td>\n",
       "      <td>NaN</td>\n",
       "      <td>NaN</td>\n",
       "      <td>United Kingdom</td>\n",
       "    </tr>\n",
       "    <tr>\n",
       "      <th>freq</th>\n",
       "      <td>1114</td>\n",
       "      <td>2313</td>\n",
       "      <td>2369</td>\n",
       "      <td>NaN</td>\n",
       "      <td>1114</td>\n",
       "      <td>NaN</td>\n",
       "      <td>NaN</td>\n",
       "      <td>495478</td>\n",
       "    </tr>\n",
       "    <tr>\n",
       "      <th>mean</th>\n",
       "      <td>NaN</td>\n",
       "      <td>NaN</td>\n",
       "      <td>NaN</td>\n",
       "      <td>9.552250</td>\n",
       "      <td>NaN</td>\n",
       "      <td>4.611114</td>\n",
       "      <td>15287.690570</td>\n",
       "      <td>NaN</td>\n",
       "    </tr>\n",
       "    <tr>\n",
       "      <th>std</th>\n",
       "      <td>NaN</td>\n",
       "      <td>NaN</td>\n",
       "      <td>NaN</td>\n",
       "      <td>218.081158</td>\n",
       "      <td>NaN</td>\n",
       "      <td>96.759853</td>\n",
       "      <td>1713.600303</td>\n",
       "      <td>NaN</td>\n",
       "    </tr>\n",
       "    <tr>\n",
       "      <th>min</th>\n",
       "      <td>NaN</td>\n",
       "      <td>NaN</td>\n",
       "      <td>NaN</td>\n",
       "      <td>-80995.000000</td>\n",
       "      <td>NaN</td>\n",
       "      <td>-11062.060000</td>\n",
       "      <td>12346.000000</td>\n",
       "      <td>NaN</td>\n",
       "    </tr>\n",
       "    <tr>\n",
       "      <th>25%</th>\n",
       "      <td>NaN</td>\n",
       "      <td>NaN</td>\n",
       "      <td>NaN</td>\n",
       "      <td>1.000000</td>\n",
       "      <td>NaN</td>\n",
       "      <td>1.250000</td>\n",
       "      <td>13953.000000</td>\n",
       "      <td>NaN</td>\n",
       "    </tr>\n",
       "    <tr>\n",
       "      <th>50%</th>\n",
       "      <td>NaN</td>\n",
       "      <td>NaN</td>\n",
       "      <td>NaN</td>\n",
       "      <td>3.000000</td>\n",
       "      <td>NaN</td>\n",
       "      <td>2.080000</td>\n",
       "      <td>15152.000000</td>\n",
       "      <td>NaN</td>\n",
       "    </tr>\n",
       "    <tr>\n",
       "      <th>75%</th>\n",
       "      <td>NaN</td>\n",
       "      <td>NaN</td>\n",
       "      <td>NaN</td>\n",
       "      <td>10.000000</td>\n",
       "      <td>NaN</td>\n",
       "      <td>4.130000</td>\n",
       "      <td>16791.000000</td>\n",
       "      <td>NaN</td>\n",
       "    </tr>\n",
       "    <tr>\n",
       "      <th>max</th>\n",
       "      <td>NaN</td>\n",
       "      <td>NaN</td>\n",
       "      <td>NaN</td>\n",
       "      <td>80995.000000</td>\n",
       "      <td>NaN</td>\n",
       "      <td>38970.000000</td>\n",
       "      <td>18287.000000</td>\n",
       "      <td>NaN</td>\n",
       "    </tr>\n",
       "  </tbody>\n",
       "</table>\n",
       "</div>"
      ],
      "text/plain": [
       "       InvoiceNo StockCode                         Description       Quantity  \\\n",
       "count     541909    541909                              540455  541909.000000   \n",
       "unique     25900      4070                                4223            NaN   \n",
       "top       573585    85123A  WHITE HANGING HEART T-LIGHT HOLDER            NaN   \n",
       "freq        1114      2313                                2369            NaN   \n",
       "mean         NaN       NaN                                 NaN       9.552250   \n",
       "std          NaN       NaN                                 NaN     218.081158   \n",
       "min          NaN       NaN                                 NaN  -80995.000000   \n",
       "25%          NaN       NaN                                 NaN       1.000000   \n",
       "50%          NaN       NaN                                 NaN       3.000000   \n",
       "75%          NaN       NaN                                 NaN      10.000000   \n",
       "max          NaN       NaN                                 NaN   80995.000000   \n",
       "\n",
       "             InvoiceDate      UnitPrice     CustomerID         Country  \n",
       "count             541909  541909.000000  406829.000000          541909  \n",
       "unique             23260            NaN            NaN              38  \n",
       "top     10/31/2011 14:41            NaN            NaN  United Kingdom  \n",
       "freq                1114            NaN            NaN          495478  \n",
       "mean                 NaN       4.611114   15287.690570             NaN  \n",
       "std                  NaN      96.759853    1713.600303             NaN  \n",
       "min                  NaN  -11062.060000   12346.000000             NaN  \n",
       "25%                  NaN       1.250000   13953.000000             NaN  \n",
       "50%                  NaN       2.080000   15152.000000             NaN  \n",
       "75%                  NaN       4.130000   16791.000000             NaN  \n",
       "max                  NaN   38970.000000   18287.000000             NaN  "
      ]
     },
     "execution_count": 5,
     "metadata": {},
     "output_type": "execute_result"
    }
   ],
   "source": [
    "df.describe(include='all')"
   ]
  },
  {
   "cell_type": "code",
   "execution_count": 6,
   "metadata": {},
   "outputs": [
    {
     "data": {
      "text/plain": [
       "InvoiceNo       object\n",
       "StockCode       object\n",
       "Description     object\n",
       "Quantity         int64\n",
       "InvoiceDate     object\n",
       "UnitPrice      float64\n",
       "CustomerID     float64\n",
       "Country         object\n",
       "dtype: object"
      ]
     },
     "execution_count": 6,
     "metadata": {},
     "output_type": "execute_result"
    }
   ],
   "source": [
    "df.dtypes"
   ]
  },
  {
   "cell_type": "code",
   "execution_count": 7,
   "metadata": {},
   "outputs": [
    {
     "data": {
      "text/plain": [
       "InvoiceNo           0\n",
       "StockCode           0\n",
       "Description      1454\n",
       "Quantity            0\n",
       "InvoiceDate         0\n",
       "UnitPrice           0\n",
       "CustomerID     135080\n",
       "Country             0\n",
       "dtype: int64"
      ]
     },
     "execution_count": 7,
     "metadata": {},
     "output_type": "execute_result"
    }
   ],
   "source": [
    "df.isnull().sum()"
   ]
  },
  {
   "cell_type": "code",
   "execution_count": 8,
   "metadata": {},
   "outputs": [
    {
     "data": {
      "text/plain": [
       "InvoiceNo           0\n",
       "StockCode           0\n",
       "Description      1454\n",
       "Quantity            0\n",
       "InvoiceDate         0\n",
       "UnitPrice           0\n",
       "CustomerID     135080\n",
       "Country             0\n",
       "dtype: int64"
      ]
     },
     "execution_count": 8,
     "metadata": {},
     "output_type": "execute_result"
    }
   ],
   "source": [
    "df.isna().sum()"
   ]
  },
  {
   "cell_type": "code",
   "execution_count": 9,
   "metadata": {
    "scrolled": true
   },
   "outputs": [
    {
     "data": {
      "text/plain": [
       "InvoiceNo           0\n",
       "StockCode           0\n",
       "Description      1454\n",
       "Quantity            0\n",
       "InvoiceDate         0\n",
       "UnitPrice           0\n",
       "CustomerID     135080\n",
       "Country             0\n",
       "dtype: int64"
      ]
     },
     "execution_count": 9,
     "metadata": {},
     "output_type": "execute_result"
    }
   ],
   "source": [
    "df.isna().sum()"
   ]
  },
  {
   "cell_type": "code",
   "execution_count": 10,
   "metadata": {},
   "outputs": [],
   "source": [
    "# Here we are droping na because the columns are unique so filling with approriate values can harm the model\n",
    "# droping na values\n",
    "df=df.dropna()"
   ]
  },
  {
   "cell_type": "code",
   "execution_count": 11,
   "metadata": {},
   "outputs": [
    {
     "data": {
      "text/plain": [
       "InvoiceNo      0\n",
       "StockCode      0\n",
       "Description    0\n",
       "Quantity       0\n",
       "InvoiceDate    0\n",
       "UnitPrice      0\n",
       "CustomerID     0\n",
       "Country        0\n",
       "dtype: int64"
      ]
     },
     "execution_count": 11,
     "metadata": {},
     "output_type": "execute_result"
    }
   ],
   "source": [
    "df.isnull().sum()"
   ]
  },
  {
   "cell_type": "markdown",
   "metadata": {},
   "source": [
    "## Univariate Analysis"
   ]
  },
  {
   "cell_type": "code",
   "execution_count": 12,
   "metadata": {},
   "outputs": [
    {
     "data": {
      "text/plain": [
       "<AxesSubplot:xlabel='Quantity', ylabel='Density'>"
      ]
     },
     "execution_count": 12,
     "metadata": {},
     "output_type": "execute_result"
    },
    {
     "data": {
      "image/png": "[encoded data removed]",
      "text/plain": [
       "<Figure size 432x288 with 1 Axes>"
      ]
     },
     "metadata": {
      "needs_background": "light"
     },
     "output_type": "display_data"
    }
   ],
   "source": [
    "sns.distplot(df['Quantity'],color=\"red\")"
   ]
  },
  {
   "cell_type": "code",
   "execution_count": 13,
   "metadata": {},
   "outputs": [
    {
     "data": {
      "text/plain": [
       "<AxesSubplot:xlabel='UnitPrice', ylabel='Density'>"
      ]
     },
     "execution_count": 13,
     "metadata": {},
     "output_type": "execute_result"
    },
    {
     "data": {
      "image/png": "[encoded data removed]",
      "text/plain": [
       "<Figure size 432x288 with 1 Axes>"
      ]
     },
     "metadata": {
      "needs_background": "light"
     },
     "output_type": "display_data"
    }
   ],
   "source": [
    "sns.distplot(df['UnitPrice'],color=\"red\")"
   ]
  },
  {
   "cell_type": "code",
   "execution_count": 14,
   "metadata": {},
   "outputs": [
    {
     "data": {
      "image/png": "[encoded data removed]",
      "text/plain": [
       "<Figure size 432x288 with 1 Axes>"
      ]
     },
     "metadata": {
      "needs_background": "light"
     },
     "output_type": "display_data"
    }
   ],
   "source": [
    "df.UnitPrice.plot.box()\n",
    "plt.show()"
   ]
  },
  {
   "cell_type": "code",
   "execution_count": 15,
   "metadata": {},
   "outputs": [
    {
     "data": {
      "image/png": "[encoded data removed]",
      "text/plain": [
       "<Figure size 432x288 with 1 Axes>"
      ]
     },
     "metadata": {
      "needs_background": "light"
     },
     "output_type": "display_data"
    }
   ],
   "source": [
    "df.Quantity.plot.box()\n",
    "plt.show()"
   ]
  },
  {
   "cell_type": "code",
   "execution_count": 16,
   "metadata": {},
   "outputs": [
    {
     "data": {
      "image/png": "[encoded data removed]",
      "text/plain": [
       "<Figure size 576x432 with 2 Axes>"
      ]
     },
     "metadata": {
      "needs_background": "light"
     },
     "output_type": "display_data"
    }
   ],
   "source": [
    "plt.figure(figsize=(8,6))\n",
    "sns.heatmap(df.corr(),annot=True,cmap='RdBu_r')\n",
    "plt.show()"
   ]
  },
  {
   "cell_type": "code",
   "execution_count": 17,
   "metadata": {},
   "outputs": [
    {
     "data": {
      "image/png": "[encoded data removed]",
      "text/plain": [
       "<Figure size 1440x720 with 1 Axes>"
      ]
     },
     "metadata": {
      "needs_background": "light"
     },
     "output_type": "display_data"
    }
   ],
   "source": [
    "\n",
    "#country V/s Quantity\n",
    "\n",
    "plt.figure(figsize =(20,10))\n",
    "\n",
    "Quantity_by_Invoice = df.groupby('Country').Quantity.mean()\n",
    "\n",
    "x= Quantity_by_Invoice.index.tolist()\n",
    "y= Quantity_by_Invoice.values.tolist()\n",
    "\n",
    "plt.xlabel('Country')\n",
    "plt.ylabel('Average Quantity')\n",
    "plt.xticks(rotation=90)\n",
    "\n",
    "\n",
    "plt.title('Avergae Number of quantity per country')\n",
    "\n",
    "plt.bar(x,y)\n",
    "plt.show()\n"
   ]
  },
  {
   "cell_type": "code",
   "execution_count": 18,
   "metadata": {},
   "outputs": [],
   "source": [
    "#sns.pairplot(df)"
   ]
  },
  {
   "cell_type": "code",
   "execution_count": 19,
   "metadata": {},
   "outputs": [
    {
     "data": {
      "text/plain": [
       "8905"
      ]
     },
     "execution_count": 19,
     "metadata": {},
     "output_type": "execute_result"
    }
   ],
   "source": [
    "# Number of records with negative quantity\n",
    "df.Quantity[df.Quantity < 0 ].count()"
   ]
  },
  {
   "cell_type": "code",
   "execution_count": 20,
   "metadata": {},
   "outputs": [
    {
     "data": {
      "text/html": [
       "<div>\n",
       "<style scoped>\n",
       "    .dataframe tbody tr th:only-of-type {\n",
       "        vertical-align: middle;\n",
       "    }\n",
       "\n",
       "    .dataframe tbody tr th {\n",
       "        vertical-align: top;\n",
       "    }\n",
       "\n",
       "    .dataframe thead th {\n",
       "        text-align: right;\n",
       "    }\n",
       "</style>\n",
       "<table border=\"1\" class=\"dataframe\">\n",
       "  <thead>\n",
       "    <tr style=\"text-align: right;\">\n",
       "      <th></th>\n",
       "      <th>InvoiceNo</th>\n",
       "      <th>StockCode</th>\n",
       "      <th>Description</th>\n",
       "      <th>Quantity</th>\n",
       "      <th>InvoiceDate</th>\n",
       "      <th>UnitPrice</th>\n",
       "      <th>CustomerID</th>\n",
       "      <th>Country</th>\n",
       "    </tr>\n",
       "  </thead>\n",
       "  <tbody>\n",
       "    <tr>\n",
       "      <th>141</th>\n",
       "      <td>C536379</td>\n",
       "      <td>D</td>\n",
       "      <td>Discount</td>\n",
       "      <td>-1</td>\n",
       "      <td>12/1/2010 9:41</td>\n",
       "      <td>27.50</td>\n",
       "      <td>14527.0</td>\n",
       "      <td>United Kingdom</td>\n",
       "    </tr>\n",
       "    <tr>\n",
       "      <th>154</th>\n",
       "      <td>C536383</td>\n",
       "      <td>35004C</td>\n",
       "      <td>SET OF 3 COLOURED  FLYING DUCKS</td>\n",
       "      <td>-1</td>\n",
       "      <td>12/1/2010 9:49</td>\n",
       "      <td>4.65</td>\n",
       "      <td>15311.0</td>\n",
       "      <td>United Kingdom</td>\n",
       "    </tr>\n",
       "    <tr>\n",
       "      <th>235</th>\n",
       "      <td>C536391</td>\n",
       "      <td>22556</td>\n",
       "      <td>PLASTERS IN TIN CIRCUS PARADE</td>\n",
       "      <td>-12</td>\n",
       "      <td>12/1/2010 10:24</td>\n",
       "      <td>1.65</td>\n",
       "      <td>17548.0</td>\n",
       "      <td>United Kingdom</td>\n",
       "    </tr>\n",
       "    <tr>\n",
       "      <th>236</th>\n",
       "      <td>C536391</td>\n",
       "      <td>21984</td>\n",
       "      <td>PACK OF 12 PINK PAISLEY TISSUES</td>\n",
       "      <td>-24</td>\n",
       "      <td>12/1/2010 10:24</td>\n",
       "      <td>0.29</td>\n",
       "      <td>17548.0</td>\n",
       "      <td>United Kingdom</td>\n",
       "    </tr>\n",
       "    <tr>\n",
       "      <th>237</th>\n",
       "      <td>C536391</td>\n",
       "      <td>21983</td>\n",
       "      <td>PACK OF 12 BLUE PAISLEY TISSUES</td>\n",
       "      <td>-24</td>\n",
       "      <td>12/1/2010 10:24</td>\n",
       "      <td>0.29</td>\n",
       "      <td>17548.0</td>\n",
       "      <td>United Kingdom</td>\n",
       "    </tr>\n",
       "    <tr>\n",
       "      <th>238</th>\n",
       "      <td>C536391</td>\n",
       "      <td>21980</td>\n",
       "      <td>PACK OF 12 RED RETROSPOT TISSUES</td>\n",
       "      <td>-24</td>\n",
       "      <td>12/1/2010 10:24</td>\n",
       "      <td>0.29</td>\n",
       "      <td>17548.0</td>\n",
       "      <td>United Kingdom</td>\n",
       "    </tr>\n",
       "    <tr>\n",
       "      <th>239</th>\n",
       "      <td>C536391</td>\n",
       "      <td>21484</td>\n",
       "      <td>CHICK GREY HOT WATER BOTTLE</td>\n",
       "      <td>-12</td>\n",
       "      <td>12/1/2010 10:24</td>\n",
       "      <td>3.45</td>\n",
       "      <td>17548.0</td>\n",
       "      <td>United Kingdom</td>\n",
       "    </tr>\n",
       "    <tr>\n",
       "      <th>240</th>\n",
       "      <td>C536391</td>\n",
       "      <td>22557</td>\n",
       "      <td>PLASTERS IN TIN VINTAGE PAISLEY</td>\n",
       "      <td>-12</td>\n",
       "      <td>12/1/2010 10:24</td>\n",
       "      <td>1.65</td>\n",
       "      <td>17548.0</td>\n",
       "      <td>United Kingdom</td>\n",
       "    </tr>\n",
       "    <tr>\n",
       "      <th>241</th>\n",
       "      <td>C536391</td>\n",
       "      <td>22553</td>\n",
       "      <td>PLASTERS IN TIN SKULLS</td>\n",
       "      <td>-24</td>\n",
       "      <td>12/1/2010 10:24</td>\n",
       "      <td>1.65</td>\n",
       "      <td>17548.0</td>\n",
       "      <td>United Kingdom</td>\n",
       "    </tr>\n",
       "    <tr>\n",
       "      <th>939</th>\n",
       "      <td>C536506</td>\n",
       "      <td>22960</td>\n",
       "      <td>JAM MAKING SET WITH JARS</td>\n",
       "      <td>-6</td>\n",
       "      <td>12/1/2010 12:38</td>\n",
       "      <td>4.25</td>\n",
       "      <td>17897.0</td>\n",
       "      <td>United Kingdom</td>\n",
       "    </tr>\n",
       "  </tbody>\n",
       "</table>\n",
       "</div>"
      ],
      "text/plain": [
       "    InvoiceNo StockCode                        Description  Quantity  \\\n",
       "141   C536379         D                           Discount        -1   \n",
       "154   C536383    35004C    SET OF 3 COLOURED  FLYING DUCKS        -1   \n",
       "235   C536391     22556     PLASTERS IN TIN CIRCUS PARADE        -12   \n",
       "236   C536391     21984   PACK OF 12 PINK PAISLEY TISSUES        -24   \n",
       "237   C536391     21983   PACK OF 12 BLUE PAISLEY TISSUES        -24   \n",
       "238   C536391     21980  PACK OF 12 RED RETROSPOT TISSUES        -24   \n",
       "239   C536391     21484        CHICK GREY HOT WATER BOTTLE       -12   \n",
       "240   C536391     22557   PLASTERS IN TIN VINTAGE PAISLEY        -12   \n",
       "241   C536391     22553             PLASTERS IN TIN SKULLS       -24   \n",
       "939   C536506     22960           JAM MAKING SET WITH JARS        -6   \n",
       "\n",
       "         InvoiceDate  UnitPrice  CustomerID         Country  \n",
       "141   12/1/2010 9:41      27.50     14527.0  United Kingdom  \n",
       "154   12/1/2010 9:49       4.65     15311.0  United Kingdom  \n",
       "235  12/1/2010 10:24       1.65     17548.0  United Kingdom  \n",
       "236  12/1/2010 10:24       0.29     17548.0  United Kingdom  \n",
       "237  12/1/2010 10:24       0.29     17548.0  United Kingdom  \n",
       "238  12/1/2010 10:24       0.29     17548.0  United Kingdom  \n",
       "239  12/1/2010 10:24       3.45     17548.0  United Kingdom  \n",
       "240  12/1/2010 10:24       1.65     17548.0  United Kingdom  \n",
       "241  12/1/2010 10:24       1.65     17548.0  United Kingdom  \n",
       "939  12/1/2010 12:38       4.25     17897.0  United Kingdom  "
      ]
     },
     "execution_count": 20,
     "metadata": {},
     "output_type": "execute_result"
    }
   ],
   "source": [
    "# Quick inspection of top records with Negative Quantity\n",
    "df.loc[df.Quantity < 0].head(10)"
   ]
  },
  {
   "cell_type": "code",
   "execution_count": 21,
   "metadata": {},
   "outputs": [
    {
     "data": {
      "text/plain": [
       "0"
      ]
     },
     "execution_count": 21,
     "metadata": {},
     "output_type": "execute_result"
    }
   ],
   "source": [
    "# Number of records with negative Unit Price \n",
    "df.UnitPrice[df.UnitPrice < 0].count()"
   ]
  },
  {
   "cell_type": "code",
   "execution_count": 22,
   "metadata": {},
   "outputs": [
    {
     "data": {
      "text/html": [
       "<div>\n",
       "<style scoped>\n",
       "    .dataframe tbody tr th:only-of-type {\n",
       "        vertical-align: middle;\n",
       "    }\n",
       "\n",
       "    .dataframe tbody tr th {\n",
       "        vertical-align: top;\n",
       "    }\n",
       "\n",
       "    .dataframe thead th {\n",
       "        text-align: right;\n",
       "    }\n",
       "</style>\n",
       "<table border=\"1\" class=\"dataframe\">\n",
       "  <thead>\n",
       "    <tr style=\"text-align: right;\">\n",
       "      <th></th>\n",
       "      <th>InvoiceNo</th>\n",
       "      <th>StockCode</th>\n",
       "      <th>Description</th>\n",
       "      <th>Quantity</th>\n",
       "      <th>InvoiceDate</th>\n",
       "      <th>UnitPrice</th>\n",
       "      <th>CustomerID</th>\n",
       "      <th>Country</th>\n",
       "    </tr>\n",
       "  </thead>\n",
       "  <tbody>\n",
       "  </tbody>\n",
       "</table>\n",
       "</div>"
      ],
      "text/plain": [
       "Empty DataFrame\n",
       "Columns: [InvoiceNo, StockCode, Description, Quantity, InvoiceDate, UnitPrice, CustomerID, Country]\n",
       "Index: []"
      ]
     },
     "execution_count": 22,
     "metadata": {},
     "output_type": "execute_result"
    }
   ],
   "source": [
    "# Quick exploration of negative price records\n",
    "df.loc[df.UnitPrice < 0]"
   ]
  },
  {
   "cell_type": "markdown",
   "metadata": {},
   "source": [
    "## Data Analysis, pre-processing & Feature engineering"
   ]
  },
  {
   "cell_type": "code",
   "execution_count": 23,
   "metadata": {},
   "outputs": [],
   "source": [
    "# Breaking down Invoice Number into Code and Number\n",
    "df['InvoiceNumber'] = df.InvoiceNo.astype(str).str[-6:]\n",
    "df['InvoiceCode'] = df.InvoiceNo.astype(str).str[-7:-6]"
   ]
  },
  {
   "cell_type": "code",
   "execution_count": 24,
   "metadata": {},
   "outputs": [],
   "source": [
    "# Transforming InvoiceDate column to datetime type and mapping to a new columne as InvoiceDate\n",
    "df['InvoiceDate'] = pd.to_datetime(df['InvoiceDate'])\n"
   ]
  },
  {
   "cell_type": "code",
   "execution_count": 25,
   "metadata": {},
   "outputs": [],
   "source": [
    "# Construct Year, Month and YearMonth from Invoice Date field\n",
    "df['Year'], df['Month'] = df['InvoiceDate'].dt.year, df['InvoiceDate'].dt.month\n",
    "df['YearMonth'] = df['InvoiceDate'].map(lambda x: 100*x.year + x.month)"
   ]
  },
  {
   "cell_type": "code",
   "execution_count": 26,
   "metadata": {},
   "outputs": [],
   "source": [
    "# Create \"Date\" column in datetime format to use for index\n",
    "df['Date'] = pd.to_datetime(df.InvoiceDate.dt.date)\n",
    "df.set_index('Date', inplace=True)\n",
    "df['Day'] = pd.DatetimeIndex(df['InvoiceDate']).day\n",
    "df['Hours'] = pd.DatetimeIndex(df['InvoiceDate']).hour"
   ]
  },
  {
   "cell_type": "code",
   "execution_count": 27,
   "metadata": {},
   "outputs": [
    {
     "data": {
      "image/png": "[encoded data removed]",
      "text/plain": [
       "<Figure size 1440x720 with 1 Axes>"
      ]
     },
     "metadata": {
      "needs_background": "light"
     },
     "output_type": "display_data"
    }
   ],
   "source": [
    "plt.figure(figsize =(20,10))\n",
    "order_day = df.groupby([\"Day\"])[\"Quantity\"].agg(\"count\").plot(kind = 'bar')\n",
    "plt.xticks(rotation=0)\n",
    "plt.title('Orders per day')\n",
    "plt.xlabel('Day in numbers')\n",
    "plt.ylabel('Count of Order')\n",
    "plt.show()"
   ]
  },
  {
   "cell_type": "code",
   "execution_count": 28,
   "metadata": {},
   "outputs": [
    {
     "data": {
      "image/png": "[encoded data removed]",
      "text/plain": [
       "<Figure size 1440x720 with 1 Axes>"
      ]
     },
     "metadata": {
      "needs_background": "light"
     },
     "output_type": "display_data"
    }
   ],
   "source": [
    "#country vs quantiy--\n",
    "\n",
    "plt.figure(figsize =(20,10))\n",
    "\n",
    "Quantity_by_Invoice = df.groupby('Country').Quantity.mean()\n",
    "\n",
    "x= Quantity_by_Invoice.index.tolist()\n",
    "y= Quantity_by_Invoice.values.tolist()\n",
    "\n",
    "plt.xlabel('Country')\n",
    "plt.ylabel('Average Quantity')\n",
    "plt.xticks(rotation=90)\n",
    "\n",
    "\n",
    "plt.title('Avergae Number of quantity per country')\n",
    "\n",
    "plt.bar(x,y)\n",
    "plt.show()"
   ]
  },
  {
   "cell_type": "code",
   "execution_count": 29,
   "metadata": {},
   "outputs": [
    {
     "data": {
      "image/png": "[encoded data removed]",
      "text/plain": [
       "<Figure size 1440x720 with 1 Axes>"
      ]
     },
     "metadata": {
      "needs_background": "light"
     },
     "output_type": "display_data"
    }
   ],
   "source": [
    "plt.figure(figsize =(20,10))\n",
    "order_day = df.groupby([\"Day\"])[\"Quantity\"].agg(\"count\").plot(kind = 'bar')\n",
    "plt.xticks(rotation=0)\n",
    "plt.title('Orders per day')\n",
    "plt.xlabel('Day in numbers')\n",
    "plt.ylabel('Count of Order')\n",
    "plt.show()"
   ]
  },
  {
   "cell_type": "code",
   "execution_count": 30,
   "metadata": {},
   "outputs": [
    {
     "data": {
      "image/png": "[encoded data removed]",
      "text/plain": [
       "<Figure size 1440x720 with 1 Axes>"
      ]
     },
     "metadata": {
      "needs_background": "light"
     },
     "output_type": "display_data"
    }
   ],
   "source": [
    "plt.figure(figsize =(20,10))\n",
    "order_month = df.groupby([\"Month\"])[\"InvoiceNo\"].agg(\"count\").plot(kind = 'line')\n",
    "plt.xticks(rotation=0)\n",
    "plt.title('Orders Trend across months')\n",
    "plt.xlabel('Month in numbers')\n",
    "plt.ylabel('Count of Order')\n",
    "plt.show()"
   ]
  },
  {
   "cell_type": "code",
   "execution_count": 31,
   "metadata": {},
   "outputs": [
    {
     "name": "stdout",
     "output_type": "stream",
     "text": [
      "<class 'pandas.core.frame.DataFrame'>\n",
      "DatetimeIndex: 406829 entries, 2010-12-01 to 2011-12-09\n",
      "Data columns (total 15 columns):\n",
      " #   Column         Non-Null Count   Dtype         \n",
      "---  ------         --------------   -----         \n",
      " 0   InvoiceNo      406829 non-null  object        \n",
      " 1   StockCode      406829 non-null  object        \n",
      " 2   Description    406829 non-null  object        \n",
      " 3   Quantity       406829 non-null  int64         \n",
      " 4   InvoiceDate    406829 non-null  datetime64[ns]\n",
      " 5   UnitPrice      406829 non-null  float64       \n",
      " 6   CustomerID     406829 non-null  float64       \n",
      " 7   Country        406829 non-null  object        \n",
      " 8   InvoiceNumber  406829 non-null  object        \n",
      " 9   InvoiceCode    406829 non-null  object        \n",
      " 10  Year           406829 non-null  int64         \n",
      " 11  Month          406829 non-null  int64         \n",
      " 12  YearMonth      406829 non-null  int64         \n",
      " 13  Day            406829 non-null  int64         \n",
      " 14  Hours          406829 non-null  int64         \n",
      "dtypes: datetime64[ns](1), float64(2), int64(6), object(6)\n",
      "memory usage: 49.7+ MB\n"
     ]
    }
   ],
   "source": [
    "df.info()"
   ]
  },
  {
   "cell_type": "code",
   "execution_count": 32,
   "metadata": {},
   "outputs": [
    {
     "data": {
      "text/plain": [
       "<bound method NDFrame.head of            InvoiceNo StockCode                          Description  Quantity  \\\n",
       "Date                                                                            \n",
       "2010-12-01    536365    85123A   WHITE HANGING HEART T-LIGHT HOLDER         6   \n",
       "2010-12-01    536365     71053                  WHITE METAL LANTERN         6   \n",
       "2010-12-01    536365    84406B       CREAM CUPID HEARTS COAT HANGER         8   \n",
       "2010-12-01    536365    84029G  KNITTED UNION FLAG HOT WATER BOTTLE         6   \n",
       "2010-12-01    536365    84029E       RED WOOLLY HOTTIE WHITE HEART.         6   \n",
       "...              ...       ...                                  ...       ...   \n",
       "2011-12-09    581587     22613          PACK OF 20 SPACEBOY NAPKINS        12   \n",
       "2011-12-09    581587     22899         CHILDREN'S APRON DOLLY GIRL          6   \n",
       "2011-12-09    581587     23254        CHILDRENS CUTLERY DOLLY GIRL          4   \n",
       "2011-12-09    581587     23255      CHILDRENS CUTLERY CIRCUS PARADE         4   \n",
       "2011-12-09    581587     22138        BAKING SET 9 PIECE RETROSPOT          3   \n",
       "\n",
       "                   InvoiceDate  UnitPrice  CustomerID         Country  \\\n",
       "Date                                                                    \n",
       "2010-12-01 2010-12-01 08:26:00       2.55     17850.0  United Kingdom   \n",
       "2010-12-01 2010-12-01 08:26:00       3.39     17850.0  United Kingdom   \n",
       "2010-12-01 2010-12-01 08:26:00       2.75     17850.0  United Kingdom   \n",
       "2010-12-01 2010-12-01 08:26:00       3.39     17850.0  United Kingdom   \n",
       "2010-12-01 2010-12-01 08:26:00       3.39     17850.0  United Kingdom   \n",
       "...                        ...        ...         ...             ...   \n",
       "2011-12-09 2011-12-09 12:50:00       0.85     12680.0          France   \n",
       "2011-12-09 2011-12-09 12:50:00       2.10     12680.0          France   \n",
       "2011-12-09 2011-12-09 12:50:00       4.15     12680.0          France   \n",
       "2011-12-09 2011-12-09 12:50:00       4.15     12680.0          France   \n",
       "2011-12-09 2011-12-09 12:50:00       4.95     12680.0          France   \n",
       "\n",
       "           InvoiceNumber InvoiceCode  Year  Month  YearMonth  Day  Hours  \n",
       "Date                                                                      \n",
       "2010-12-01        536365              2010     12     201012    1      8  \n",
       "2010-12-01        536365              2010     12     201012    1      8  \n",
       "2010-12-01        536365              2010     12     201012    1      8  \n",
       "2010-12-01        536365              2010     12     201012    1      8  \n",
       "2010-12-01        536365              2010     12     201012    1      8  \n",
       "...                  ...         ...   ...    ...        ...  ...    ...  \n",
       "2011-12-09        581587              2011     12     201112    9     12  \n",
       "2011-12-09        581587              2011     12     201112    9     12  \n",
       "2011-12-09        581587              2011     12     201112    9     12  \n",
       "2011-12-09        581587              2011     12     201112    9     12  \n",
       "2011-12-09        581587              2011     12     201112    9     12  \n",
       "\n",
       "[406829 rows x 15 columns]>"
      ]
     },
     "execution_count": 32,
     "metadata": {},
     "output_type": "execute_result"
    }
   ],
   "source": [
    "df.head"
   ]
  },
  {
   "cell_type": "markdown",
   "metadata": {},
   "source": [
    "## Processing and EDA on new features"
   ]
  },
  {
   "cell_type": "markdown",
   "metadata": {},
   "source": [
    "InvoiceNo processing"
   ]
  },
  {
   "cell_type": "code",
   "execution_count": 33,
   "metadata": {},
   "outputs": [
    {
     "data": {
      "text/html": [
       "<div>\n",
       "<style scoped>\n",
       "    .dataframe tbody tr th:only-of-type {\n",
       "        vertical-align: middle;\n",
       "    }\n",
       "\n",
       "    .dataframe tbody tr th {\n",
       "        vertical-align: top;\n",
       "    }\n",
       "\n",
       "    .dataframe thead th {\n",
       "        text-align: right;\n",
       "    }\n",
       "</style>\n",
       "<table border=\"1\" class=\"dataframe\">\n",
       "  <thead>\n",
       "    <tr style=\"text-align: right;\">\n",
       "      <th></th>\n",
       "      <th>InvoiceNo</th>\n",
       "      <th>StockCode</th>\n",
       "      <th>Description</th>\n",
       "      <th>Country</th>\n",
       "      <th>InvoiceNumber</th>\n",
       "      <th>InvoiceCode</th>\n",
       "    </tr>\n",
       "  </thead>\n",
       "  <tbody>\n",
       "    <tr>\n",
       "      <th>count</th>\n",
       "      <td>406829</td>\n",
       "      <td>406829</td>\n",
       "      <td>406829</td>\n",
       "      <td>406829</td>\n",
       "      <td>406829</td>\n",
       "      <td>406829</td>\n",
       "    </tr>\n",
       "    <tr>\n",
       "      <th>unique</th>\n",
       "      <td>22190</td>\n",
       "      <td>3684</td>\n",
       "      <td>3896</td>\n",
       "      <td>37</td>\n",
       "      <td>22190</td>\n",
       "      <td>2</td>\n",
       "    </tr>\n",
       "    <tr>\n",
       "      <th>top</th>\n",
       "      <td>576339</td>\n",
       "      <td>85123A</td>\n",
       "      <td>WHITE HANGING HEART T-LIGHT HOLDER</td>\n",
       "      <td>United Kingdom</td>\n",
       "      <td>576339</td>\n",
       "      <td></td>\n",
       "    </tr>\n",
       "    <tr>\n",
       "      <th>freq</th>\n",
       "      <td>542</td>\n",
       "      <td>2077</td>\n",
       "      <td>2070</td>\n",
       "      <td>361878</td>\n",
       "      <td>542</td>\n",
       "      <td>397924</td>\n",
       "    </tr>\n",
       "  </tbody>\n",
       "</table>\n",
       "</div>"
      ],
      "text/plain": [
       "       InvoiceNo StockCode                         Description  \\\n",
       "count     406829    406829                              406829   \n",
       "unique     22190      3684                                3896   \n",
       "top       576339    85123A  WHITE HANGING HEART T-LIGHT HOLDER   \n",
       "freq         542      2077                                2070   \n",
       "\n",
       "               Country InvoiceNumber InvoiceCode  \n",
       "count           406829        406829      406829  \n",
       "unique              37         22190           2  \n",
       "top     United Kingdom        576339              \n",
       "freq            361878           542      397924  "
      ]
     },
     "execution_count": 33,
     "metadata": {},
     "output_type": "execute_result"
    }
   ],
   "source": [
    "# Inspecting new features\n",
    "df.describe(include='object')"
   ]
  },
  {
   "cell_type": "code",
   "execution_count": 34,
   "metadata": {},
   "outputs": [
    {
     "data": {
      "text/plain": [
       "     397924\n",
       "C      8905\n",
       "Name: InvoiceCode, dtype: int64"
      ]
     },
     "execution_count": 34,
     "metadata": {},
     "output_type": "execute_result"
    }
   ],
   "source": [
    "# Counting types of Invoices\n",
    "df.InvoiceCode.value_counts()"
   ]
  },
  {
   "cell_type": "code",
   "execution_count": 35,
   "metadata": {},
   "outputs": [
    {
     "data": {
      "text/plain": [
       "array(['', 'C'], dtype=object)"
      ]
     },
     "execution_count": 35,
     "metadata": {},
     "output_type": "execute_result"
    }
   ],
   "source": [
    "# Unique values\n",
    "df.InvoiceCode.unique()"
   ]
  },
  {
   "cell_type": "code",
   "execution_count": 36,
   "metadata": {},
   "outputs": [
    {
     "data": {
      "text/plain": [
       "array(['N', 'C'], dtype=object)"
      ]
     },
     "execution_count": 36,
     "metadata": {},
     "output_type": "execute_result"
    }
   ],
   "source": [
    "# Replacing '' with 'N', to reflect Normal transactions\n",
    "df.InvoiceCode.replace({'': 'N'}, inplace = True)\n",
    "df.InvoiceCode.unique()"
   ]
  },
  {
   "cell_type": "code",
   "execution_count": 37,
   "metadata": {},
   "outputs": [
    {
     "data": {
      "text/html": [
       "<div>\n",
       "<style scoped>\n",
       "    .dataframe tbody tr th:only-of-type {\n",
       "        vertical-align: middle;\n",
       "    }\n",
       "\n",
       "    .dataframe tbody tr th {\n",
       "        vertical-align: top;\n",
       "    }\n",
       "\n",
       "    .dataframe thead th {\n",
       "        text-align: right;\n",
       "    }\n",
       "</style>\n",
       "<table border=\"1\" class=\"dataframe\">\n",
       "  <thead>\n",
       "    <tr style=\"text-align: right;\">\n",
       "      <th></th>\n",
       "      <th>InvoiceNo</th>\n",
       "      <th>StockCode</th>\n",
       "      <th>Description</th>\n",
       "      <th>Quantity</th>\n",
       "      <th>InvoiceDate</th>\n",
       "      <th>UnitPrice</th>\n",
       "      <th>CustomerID</th>\n",
       "      <th>Country</th>\n",
       "      <th>InvoiceNumber</th>\n",
       "      <th>InvoiceCode</th>\n",
       "      <th>Year</th>\n",
       "      <th>Month</th>\n",
       "      <th>YearMonth</th>\n",
       "      <th>Day</th>\n",
       "      <th>Hours</th>\n",
       "    </tr>\n",
       "    <tr>\n",
       "      <th>Date</th>\n",
       "      <th></th>\n",
       "      <th></th>\n",
       "      <th></th>\n",
       "      <th></th>\n",
       "      <th></th>\n",
       "      <th></th>\n",
       "      <th></th>\n",
       "      <th></th>\n",
       "      <th></th>\n",
       "      <th></th>\n",
       "      <th></th>\n",
       "      <th></th>\n",
       "      <th></th>\n",
       "      <th></th>\n",
       "      <th></th>\n",
       "    </tr>\n",
       "  </thead>\n",
       "  <tbody>\n",
       "  </tbody>\n",
       "</table>\n",
       "</div>"
      ],
      "text/plain": [
       "Empty DataFrame\n",
       "Columns: [InvoiceNo, StockCode, Description, Quantity, InvoiceDate, UnitPrice, CustomerID, Country, InvoiceNumber, InvoiceCode, Year, Month, YearMonth, Day, Hours]\n",
       "Index: []"
      ]
     },
     "execution_count": 37,
     "metadata": {},
     "output_type": "execute_result"
    }
   ],
   "source": [
    "# Inspecting type A and C invoices\n",
    "df[df.InvoiceCode == \"A\"].head()"
   ]
  },
  {
   "cell_type": "code",
   "execution_count": 38,
   "metadata": {},
   "outputs": [
    {
     "data": {
      "text/html": [
       "<div>\n",
       "<style scoped>\n",
       "    .dataframe tbody tr th:only-of-type {\n",
       "        vertical-align: middle;\n",
       "    }\n",
       "\n",
       "    .dataframe tbody tr th {\n",
       "        vertical-align: top;\n",
       "    }\n",
       "\n",
       "    .dataframe thead th {\n",
       "        text-align: right;\n",
       "    }\n",
       "</style>\n",
       "<table border=\"1\" class=\"dataframe\">\n",
       "  <thead>\n",
       "    <tr style=\"text-align: right;\">\n",
       "      <th></th>\n",
       "      <th>InvoiceNo</th>\n",
       "      <th>StockCode</th>\n",
       "      <th>Description</th>\n",
       "      <th>Quantity</th>\n",
       "      <th>InvoiceDate</th>\n",
       "      <th>UnitPrice</th>\n",
       "      <th>CustomerID</th>\n",
       "      <th>Country</th>\n",
       "      <th>InvoiceNumber</th>\n",
       "      <th>InvoiceCode</th>\n",
       "      <th>Year</th>\n",
       "      <th>Month</th>\n",
       "      <th>YearMonth</th>\n",
       "      <th>Day</th>\n",
       "      <th>Hours</th>\n",
       "    </tr>\n",
       "    <tr>\n",
       "      <th>Date</th>\n",
       "      <th></th>\n",
       "      <th></th>\n",
       "      <th></th>\n",
       "      <th></th>\n",
       "      <th></th>\n",
       "      <th></th>\n",
       "      <th></th>\n",
       "      <th></th>\n",
       "      <th></th>\n",
       "      <th></th>\n",
       "      <th></th>\n",
       "      <th></th>\n",
       "      <th></th>\n",
       "      <th></th>\n",
       "      <th></th>\n",
       "    </tr>\n",
       "  </thead>\n",
       "  <tbody>\n",
       "    <tr>\n",
       "      <th>2010-12-01</th>\n",
       "      <td>C536379</td>\n",
       "      <td>D</td>\n",
       "      <td>Discount</td>\n",
       "      <td>-1</td>\n",
       "      <td>2010-12-01 09:41:00</td>\n",
       "      <td>27.50</td>\n",
       "      <td>14527.0</td>\n",
       "      <td>United Kingdom</td>\n",
       "      <td>536379</td>\n",
       "      <td>C</td>\n",
       "      <td>2010</td>\n",
       "      <td>12</td>\n",
       "      <td>201012</td>\n",
       "      <td>1</td>\n",
       "      <td>9</td>\n",
       "    </tr>\n",
       "    <tr>\n",
       "      <th>2010-12-01</th>\n",
       "      <td>C536383</td>\n",
       "      <td>35004C</td>\n",
       "      <td>SET OF 3 COLOURED  FLYING DUCKS</td>\n",
       "      <td>-1</td>\n",
       "      <td>2010-12-01 09:49:00</td>\n",
       "      <td>4.65</td>\n",
       "      <td>15311.0</td>\n",
       "      <td>United Kingdom</td>\n",
       "      <td>536383</td>\n",
       "      <td>C</td>\n",
       "      <td>2010</td>\n",
       "      <td>12</td>\n",
       "      <td>201012</td>\n",
       "      <td>1</td>\n",
       "      <td>9</td>\n",
       "    </tr>\n",
       "    <tr>\n",
       "      <th>2010-12-01</th>\n",
       "      <td>C536391</td>\n",
       "      <td>22556</td>\n",
       "      <td>PLASTERS IN TIN CIRCUS PARADE</td>\n",
       "      <td>-12</td>\n",
       "      <td>2010-12-01 10:24:00</td>\n",
       "      <td>1.65</td>\n",
       "      <td>17548.0</td>\n",
       "      <td>United Kingdom</td>\n",
       "      <td>536391</td>\n",
       "      <td>C</td>\n",
       "      <td>2010</td>\n",
       "      <td>12</td>\n",
       "      <td>201012</td>\n",
       "      <td>1</td>\n",
       "      <td>10</td>\n",
       "    </tr>\n",
       "    <tr>\n",
       "      <th>2010-12-01</th>\n",
       "      <td>C536391</td>\n",
       "      <td>21984</td>\n",
       "      <td>PACK OF 12 PINK PAISLEY TISSUES</td>\n",
       "      <td>-24</td>\n",
       "      <td>2010-12-01 10:24:00</td>\n",
       "      <td>0.29</td>\n",
       "      <td>17548.0</td>\n",
       "      <td>United Kingdom</td>\n",
       "      <td>536391</td>\n",
       "      <td>C</td>\n",
       "      <td>2010</td>\n",
       "      <td>12</td>\n",
       "      <td>201012</td>\n",
       "      <td>1</td>\n",
       "      <td>10</td>\n",
       "    </tr>\n",
       "    <tr>\n",
       "      <th>2010-12-01</th>\n",
       "      <td>C536391</td>\n",
       "      <td>21983</td>\n",
       "      <td>PACK OF 12 BLUE PAISLEY TISSUES</td>\n",
       "      <td>-24</td>\n",
       "      <td>2010-12-01 10:24:00</td>\n",
       "      <td>0.29</td>\n",
       "      <td>17548.0</td>\n",
       "      <td>United Kingdom</td>\n",
       "      <td>536391</td>\n",
       "      <td>C</td>\n",
       "      <td>2010</td>\n",
       "      <td>12</td>\n",
       "      <td>201012</td>\n",
       "      <td>1</td>\n",
       "      <td>10</td>\n",
       "    </tr>\n",
       "  </tbody>\n",
       "</table>\n",
       "</div>"
      ],
      "text/plain": [
       "           InvoiceNo StockCode                       Description  Quantity  \\\n",
       "Date                                                                         \n",
       "2010-12-01   C536379         D                          Discount        -1   \n",
       "2010-12-01   C536383    35004C   SET OF 3 COLOURED  FLYING DUCKS        -1   \n",
       "2010-12-01   C536391     22556    PLASTERS IN TIN CIRCUS PARADE        -12   \n",
       "2010-12-01   C536391     21984  PACK OF 12 PINK PAISLEY TISSUES        -24   \n",
       "2010-12-01   C536391     21983  PACK OF 12 BLUE PAISLEY TISSUES        -24   \n",
       "\n",
       "                   InvoiceDate  UnitPrice  CustomerID         Country  \\\n",
       "Date                                                                    \n",
       "2010-12-01 2010-12-01 09:41:00      27.50     14527.0  United Kingdom   \n",
       "2010-12-01 2010-12-01 09:49:00       4.65     15311.0  United Kingdom   \n",
       "2010-12-01 2010-12-01 10:24:00       1.65     17548.0  United Kingdom   \n",
       "2010-12-01 2010-12-01 10:24:00       0.29     17548.0  United Kingdom   \n",
       "2010-12-01 2010-12-01 10:24:00       0.29     17548.0  United Kingdom   \n",
       "\n",
       "           InvoiceNumber InvoiceCode  Year  Month  YearMonth  Day  Hours  \n",
       "Date                                                                      \n",
       "2010-12-01        536379           C  2010     12     201012    1      9  \n",
       "2010-12-01        536383           C  2010     12     201012    1      9  \n",
       "2010-12-01        536391           C  2010     12     201012    1     10  \n",
       "2010-12-01        536391           C  2010     12     201012    1     10  \n",
       "2010-12-01        536391           C  2010     12     201012    1     10  "
      ]
     },
     "execution_count": 38,
     "metadata": {},
     "output_type": "execute_result"
    }
   ],
   "source": [
    "df[df.InvoiceCode == \"C\"].head()"
   ]
  },
  {
   "cell_type": "markdown",
   "metadata": {},
   "source": [
    "InvoiceNo Validations\n",
    "\n",
    "From initial review of the invoice numbers and code, it seems that for a specific Invoice Number, there's only a certain type available in the dataset. e.g. For Invoice type-C transactions verify if there is the corresponding N-type transaction. i.e same Invoice Number, different type."
   ]
  },
  {
   "cell_type": "code",
   "execution_count": 39,
   "metadata": {},
   "outputs": [
    {
     "data": {
      "text/html": [
       "<div>\n",
       "<style scoped>\n",
       "    .dataframe tbody tr th:only-of-type {\n",
       "        vertical-align: middle;\n",
       "    }\n",
       "\n",
       "    .dataframe tbody tr th {\n",
       "        vertical-align: top;\n",
       "    }\n",
       "\n",
       "    .dataframe thead th {\n",
       "        text-align: right;\n",
       "    }\n",
       "</style>\n",
       "<table border=\"1\" class=\"dataframe\">\n",
       "  <thead>\n",
       "    <tr style=\"text-align: right;\">\n",
       "      <th></th>\n",
       "      <th>InvoiceNo</th>\n",
       "      <th>StockCode</th>\n",
       "      <th>Description</th>\n",
       "      <th>Quantity</th>\n",
       "      <th>InvoiceDate</th>\n",
       "      <th>UnitPrice</th>\n",
       "      <th>CustomerID</th>\n",
       "      <th>Country</th>\n",
       "      <th>InvoiceNumber</th>\n",
       "      <th>InvoiceCode</th>\n",
       "      <th>Year</th>\n",
       "      <th>Month</th>\n",
       "      <th>YearMonth</th>\n",
       "      <th>Day</th>\n",
       "      <th>Hours</th>\n",
       "    </tr>\n",
       "    <tr>\n",
       "      <th>Date</th>\n",
       "      <th></th>\n",
       "      <th></th>\n",
       "      <th></th>\n",
       "      <th></th>\n",
       "      <th></th>\n",
       "      <th></th>\n",
       "      <th></th>\n",
       "      <th></th>\n",
       "      <th></th>\n",
       "      <th></th>\n",
       "      <th></th>\n",
       "      <th></th>\n",
       "      <th></th>\n",
       "      <th></th>\n",
       "      <th></th>\n",
       "    </tr>\n",
       "  </thead>\n",
       "  <tbody>\n",
       "    <tr>\n",
       "      <th>2010-12-01</th>\n",
       "      <td>C536548</td>\n",
       "      <td>22244</td>\n",
       "      <td>3 HOOK HANGER MAGIC GARDEN</td>\n",
       "      <td>-4</td>\n",
       "      <td>2010-12-01 14:33:00</td>\n",
       "      <td>1.95</td>\n",
       "      <td>12472.0</td>\n",
       "      <td>Germany</td>\n",
       "      <td>536548</td>\n",
       "      <td>C</td>\n",
       "      <td>2010</td>\n",
       "      <td>12</td>\n",
       "      <td>201012</td>\n",
       "      <td>1</td>\n",
       "      <td>14</td>\n",
       "    </tr>\n",
       "    <tr>\n",
       "      <th>2010-12-01</th>\n",
       "      <td>C536548</td>\n",
       "      <td>22242</td>\n",
       "      <td>5 HOOK HANGER MAGIC TOADSTOOL</td>\n",
       "      <td>-5</td>\n",
       "      <td>2010-12-01 14:33:00</td>\n",
       "      <td>1.65</td>\n",
       "      <td>12472.0</td>\n",
       "      <td>Germany</td>\n",
       "      <td>536548</td>\n",
       "      <td>C</td>\n",
       "      <td>2010</td>\n",
       "      <td>12</td>\n",
       "      <td>201012</td>\n",
       "      <td>1</td>\n",
       "      <td>14</td>\n",
       "    </tr>\n",
       "    <tr>\n",
       "      <th>2010-12-01</th>\n",
       "      <td>C536548</td>\n",
       "      <td>20914</td>\n",
       "      <td>SET/5 RED RETROSPOT LID GLASS BOWLS</td>\n",
       "      <td>-1</td>\n",
       "      <td>2010-12-01 14:33:00</td>\n",
       "      <td>2.95</td>\n",
       "      <td>12472.0</td>\n",
       "      <td>Germany</td>\n",
       "      <td>536548</td>\n",
       "      <td>C</td>\n",
       "      <td>2010</td>\n",
       "      <td>12</td>\n",
       "      <td>201012</td>\n",
       "      <td>1</td>\n",
       "      <td>14</td>\n",
       "    </tr>\n",
       "    <tr>\n",
       "      <th>2010-12-01</th>\n",
       "      <td>C536548</td>\n",
       "      <td>22892</td>\n",
       "      <td>SET OF SALT AND PEPPER TOADSTOOLS</td>\n",
       "      <td>-7</td>\n",
       "      <td>2010-12-01 14:33:00</td>\n",
       "      <td>1.25</td>\n",
       "      <td>12472.0</td>\n",
       "      <td>Germany</td>\n",
       "      <td>536548</td>\n",
       "      <td>C</td>\n",
       "      <td>2010</td>\n",
       "      <td>12</td>\n",
       "      <td>201012</td>\n",
       "      <td>1</td>\n",
       "      <td>14</td>\n",
       "    </tr>\n",
       "    <tr>\n",
       "      <th>2010-12-01</th>\n",
       "      <td>C536548</td>\n",
       "      <td>22654</td>\n",
       "      <td>DELUXE SEWING KIT</td>\n",
       "      <td>-1</td>\n",
       "      <td>2010-12-01 14:33:00</td>\n",
       "      <td>5.95</td>\n",
       "      <td>12472.0</td>\n",
       "      <td>Germany</td>\n",
       "      <td>536548</td>\n",
       "      <td>C</td>\n",
       "      <td>2010</td>\n",
       "      <td>12</td>\n",
       "      <td>201012</td>\n",
       "      <td>1</td>\n",
       "      <td>14</td>\n",
       "    </tr>\n",
       "    <tr>\n",
       "      <th>2010-12-01</th>\n",
       "      <td>C536548</td>\n",
       "      <td>22767</td>\n",
       "      <td>TRIPLE PHOTO FRAME CORNICE</td>\n",
       "      <td>-2</td>\n",
       "      <td>2010-12-01 14:33:00</td>\n",
       "      <td>9.95</td>\n",
       "      <td>12472.0</td>\n",
       "      <td>Germany</td>\n",
       "      <td>536548</td>\n",
       "      <td>C</td>\n",
       "      <td>2010</td>\n",
       "      <td>12</td>\n",
       "      <td>201012</td>\n",
       "      <td>1</td>\n",
       "      <td>14</td>\n",
       "    </tr>\n",
       "    <tr>\n",
       "      <th>2010-12-01</th>\n",
       "      <td>C536548</td>\n",
       "      <td>22333</td>\n",
       "      <td>RETROSPOT PARTY BAG + STICKER SET</td>\n",
       "      <td>-1</td>\n",
       "      <td>2010-12-01 14:33:00</td>\n",
       "      <td>1.65</td>\n",
       "      <td>12472.0</td>\n",
       "      <td>Germany</td>\n",
       "      <td>536548</td>\n",
       "      <td>C</td>\n",
       "      <td>2010</td>\n",
       "      <td>12</td>\n",
       "      <td>201012</td>\n",
       "      <td>1</td>\n",
       "      <td>14</td>\n",
       "    </tr>\n",
       "    <tr>\n",
       "      <th>2010-12-01</th>\n",
       "      <td>C536548</td>\n",
       "      <td>22245</td>\n",
       "      <td>HOOK, 1 HANGER ,MAGIC GARDEN</td>\n",
       "      <td>-2</td>\n",
       "      <td>2010-12-01 14:33:00</td>\n",
       "      <td>0.85</td>\n",
       "      <td>12472.0</td>\n",
       "      <td>Germany</td>\n",
       "      <td>536548</td>\n",
       "      <td>C</td>\n",
       "      <td>2010</td>\n",
       "      <td>12</td>\n",
       "      <td>201012</td>\n",
       "      <td>1</td>\n",
       "      <td>14</td>\n",
       "    </tr>\n",
       "    <tr>\n",
       "      <th>2010-12-01</th>\n",
       "      <td>C536548</td>\n",
       "      <td>22077</td>\n",
       "      <td>6 RIBBONS RUSTIC CHARM</td>\n",
       "      <td>-6</td>\n",
       "      <td>2010-12-01 14:33:00</td>\n",
       "      <td>1.65</td>\n",
       "      <td>12472.0</td>\n",
       "      <td>Germany</td>\n",
       "      <td>536548</td>\n",
       "      <td>C</td>\n",
       "      <td>2010</td>\n",
       "      <td>12</td>\n",
       "      <td>201012</td>\n",
       "      <td>1</td>\n",
       "      <td>14</td>\n",
       "    </tr>\n",
       "    <tr>\n",
       "      <th>2010-12-01</th>\n",
       "      <td>C536548</td>\n",
       "      <td>22631</td>\n",
       "      <td>CIRCUS PARADE LUNCH BOX</td>\n",
       "      <td>-1</td>\n",
       "      <td>2010-12-01 14:33:00</td>\n",
       "      <td>1.95</td>\n",
       "      <td>12472.0</td>\n",
       "      <td>Germany</td>\n",
       "      <td>536548</td>\n",
       "      <td>C</td>\n",
       "      <td>2010</td>\n",
       "      <td>12</td>\n",
       "      <td>201012</td>\n",
       "      <td>1</td>\n",
       "      <td>14</td>\n",
       "    </tr>\n",
       "    <tr>\n",
       "      <th>2010-12-01</th>\n",
       "      <td>C536548</td>\n",
       "      <td>22168</td>\n",
       "      <td>ORGANISER WOOD ANTIQUE WHITE</td>\n",
       "      <td>-2</td>\n",
       "      <td>2010-12-01 14:33:00</td>\n",
       "      <td>8.50</td>\n",
       "      <td>12472.0</td>\n",
       "      <td>Germany</td>\n",
       "      <td>536548</td>\n",
       "      <td>C</td>\n",
       "      <td>2010</td>\n",
       "      <td>12</td>\n",
       "      <td>201012</td>\n",
       "      <td>1</td>\n",
       "      <td>14</td>\n",
       "    </tr>\n",
       "    <tr>\n",
       "      <th>2010-12-01</th>\n",
       "      <td>C536548</td>\n",
       "      <td>21218</td>\n",
       "      <td>RED SPOTTY BISCUIT TIN</td>\n",
       "      <td>-3</td>\n",
       "      <td>2010-12-01 14:33:00</td>\n",
       "      <td>3.75</td>\n",
       "      <td>12472.0</td>\n",
       "      <td>Germany</td>\n",
       "      <td>536548</td>\n",
       "      <td>C</td>\n",
       "      <td>2010</td>\n",
       "      <td>12</td>\n",
       "      <td>201012</td>\n",
       "      <td>1</td>\n",
       "      <td>14</td>\n",
       "    </tr>\n",
       "    <tr>\n",
       "      <th>2010-12-01</th>\n",
       "      <td>C536548</td>\n",
       "      <td>20957</td>\n",
       "      <td>PORCELAIN HANGING BELL SMALL</td>\n",
       "      <td>-1</td>\n",
       "      <td>2010-12-01 14:33:00</td>\n",
       "      <td>1.45</td>\n",
       "      <td>12472.0</td>\n",
       "      <td>Germany</td>\n",
       "      <td>536548</td>\n",
       "      <td>C</td>\n",
       "      <td>2010</td>\n",
       "      <td>12</td>\n",
       "      <td>201012</td>\n",
       "      <td>1</td>\n",
       "      <td>14</td>\n",
       "    </tr>\n",
       "    <tr>\n",
       "      <th>2010-12-01</th>\n",
       "      <td>C536548</td>\n",
       "      <td>22580</td>\n",
       "      <td>ADVENT CALENDAR GINGHAM SACK</td>\n",
       "      <td>-4</td>\n",
       "      <td>2010-12-01 14:33:00</td>\n",
       "      <td>5.95</td>\n",
       "      <td>12472.0</td>\n",
       "      <td>Germany</td>\n",
       "      <td>536548</td>\n",
       "      <td>C</td>\n",
       "      <td>2010</td>\n",
       "      <td>12</td>\n",
       "      <td>201012</td>\n",
       "      <td>1</td>\n",
       "      <td>14</td>\n",
       "    </tr>\n",
       "  </tbody>\n",
       "</table>\n",
       "</div>"
      ],
      "text/plain": [
       "           InvoiceNo StockCode                          Description  Quantity  \\\n",
       "Date                                                                            \n",
       "2010-12-01   C536548     22244           3 HOOK HANGER MAGIC GARDEN        -4   \n",
       "2010-12-01   C536548     22242        5 HOOK HANGER MAGIC TOADSTOOL        -5   \n",
       "2010-12-01   C536548     20914  SET/5 RED RETROSPOT LID GLASS BOWLS        -1   \n",
       "2010-12-01   C536548     22892    SET OF SALT AND PEPPER TOADSTOOLS        -7   \n",
       "2010-12-01   C536548     22654                   DELUXE SEWING KIT         -1   \n",
       "2010-12-01   C536548     22767          TRIPLE PHOTO FRAME CORNICE         -2   \n",
       "2010-12-01   C536548     22333    RETROSPOT PARTY BAG + STICKER SET        -1   \n",
       "2010-12-01   C536548     22245         HOOK, 1 HANGER ,MAGIC GARDEN        -2   \n",
       "2010-12-01   C536548     22077               6 RIBBONS RUSTIC CHARM        -6   \n",
       "2010-12-01   C536548     22631             CIRCUS PARADE LUNCH BOX         -1   \n",
       "2010-12-01   C536548     22168        ORGANISER WOOD ANTIQUE WHITE         -2   \n",
       "2010-12-01   C536548     21218               RED SPOTTY BISCUIT TIN        -3   \n",
       "2010-12-01   C536548     20957         PORCELAIN HANGING BELL SMALL        -1   \n",
       "2010-12-01   C536548     22580         ADVENT CALENDAR GINGHAM SACK        -4   \n",
       "\n",
       "                   InvoiceDate  UnitPrice  CustomerID  Country InvoiceNumber  \\\n",
       "Date                                                                           \n",
       "2010-12-01 2010-12-01 14:33:00       1.95     12472.0  Germany        536548   \n",
       "2010-12-01 2010-12-01 14:33:00       1.65     12472.0  Germany        536548   \n",
       "2010-12-01 2010-12-01 14:33:00       2.95     12472.0  Germany        536548   \n",
       "2010-12-01 2010-12-01 14:33:00       1.25     12472.0  Germany        536548   \n",
       "2010-12-01 2010-12-01 14:33:00       5.95     12472.0  Germany        536548   \n",
       "2010-12-01 2010-12-01 14:33:00       9.95     12472.0  Germany        536548   \n",
       "2010-12-01 2010-12-01 14:33:00       1.65     12472.0  Germany        536548   \n",
       "2010-12-01 2010-12-01 14:33:00       0.85     12472.0  Germany        536548   \n",
       "2010-12-01 2010-12-01 14:33:00       1.65     12472.0  Germany        536548   \n",
       "2010-12-01 2010-12-01 14:33:00       1.95     12472.0  Germany        536548   \n",
       "2010-12-01 2010-12-01 14:33:00       8.50     12472.0  Germany        536548   \n",
       "2010-12-01 2010-12-01 14:33:00       3.75     12472.0  Germany        536548   \n",
       "2010-12-01 2010-12-01 14:33:00       1.45     12472.0  Germany        536548   \n",
       "2010-12-01 2010-12-01 14:33:00       5.95     12472.0  Germany        536548   \n",
       "\n",
       "           InvoiceCode  Year  Month  YearMonth  Day  Hours  \n",
       "Date                                                        \n",
       "2010-12-01           C  2010     12     201012    1     14  \n",
       "2010-12-01           C  2010     12     201012    1     14  \n",
       "2010-12-01           C  2010     12     201012    1     14  \n",
       "2010-12-01           C  2010     12     201012    1     14  \n",
       "2010-12-01           C  2010     12     201012    1     14  \n",
       "2010-12-01           C  2010     12     201012    1     14  \n",
       "2010-12-01           C  2010     12     201012    1     14  \n",
       "2010-12-01           C  2010     12     201012    1     14  \n",
       "2010-12-01           C  2010     12     201012    1     14  \n",
       "2010-12-01           C  2010     12     201012    1     14  \n",
       "2010-12-01           C  2010     12     201012    1     14  \n",
       "2010-12-01           C  2010     12     201012    1     14  \n",
       "2010-12-01           C  2010     12     201012    1     14  \n",
       "2010-12-01           C  2010     12     201012    1     14  "
      ]
     },
     "execution_count": 39,
     "metadata": {},
     "output_type": "execute_result"
    }
   ],
   "source": [
    "df[df.InvoiceNumber == '536548']"
   ]
  },
  {
   "cell_type": "code",
   "execution_count": 40,
   "metadata": {},
   "outputs": [],
   "source": [
    "# Get list of Invoice Numbers with C\n",
    "invoice_numbers = list(df[df.InvoiceCode == \"C\"].InvoiceNumber)"
   ]
  },
  {
   "cell_type": "code",
   "execution_count": 41,
   "metadata": {},
   "outputs": [],
   "source": [
    "# Create group list to iterate through\n",
    "groups = df.groupby('InvoiceNumber')"
   ]
  },
  {
   "cell_type": "code",
   "execution_count": 42,
   "metadata": {},
   "outputs": [],
   "source": [
    "contained_n_and_c = []"
   ]
  },
  {
   "cell_type": "code",
   "execution_count": 43,
   "metadata": {},
   "outputs": [],
   "source": [
    "\n",
    "# For each group iterate through Invoice numbers:\n",
    "# IF there's any invoice type N, then append and continue\n",
    "for group in groups:\n",
    "    \n",
    "    group_id = group[0]\n",
    "    data = group[1]\n",
    "    \n",
    "    if group_id in invoice_numbers:\n",
    "        row_data = [row[-1] for row in data.values]\n",
    "        if 'N' in row_data:\n",
    "            contained_n_and_c.append(group_id)\n",
    "        else:\n",
    "            pass\n",
    "    else:\n",
    "        pass"
   ]
  },
  {
   "cell_type": "code",
   "execution_count": 44,
   "metadata": {},
   "outputs": [
    {
     "data": {
      "text/plain": [
       "[]"
      ]
     },
     "execution_count": 44,
     "metadata": {},
     "output_type": "execute_result"
    }
   ],
   "source": [
    "# Test there's no overlap between type-C and type-N transactions in a single invoice\n",
    "contained_n_and_c"
   ]
  },
  {
   "cell_type": "markdown",
   "metadata": {},
   "source": [
    "## Masks for Data Processing "
   ]
  },
  {
   "cell_type": "markdown",
   "metadata": {},
   "source": [
    "Creating various Masks to implement the rules per feature for narrowing down the active population"
   ]
  },
  {
   "cell_type": "code",
   "execution_count": 45,
   "metadata": {},
   "outputs": [],
   "source": [
    "\n",
    "# Valid Price\n",
    "valid_price = df.UnitPrice >= 0\n",
    "\n",
    "# Valid Description\n",
    "valid_desc = df.Description.notnull()\n",
    "\n",
    "# Valid CID\n",
    "valid_CID = df.CustomerID.notnull()\n",
    "\n",
    "# Invoice type-N (Normal)\n",
    "inv_N = df.InvoiceCode == \"N\"\n",
    "\n",
    "# Invoice type-C (Cancellation)\n",
    "inv_C = df.InvoiceCode == \"C\"\n",
    "\n",
    "# Invoice type-N (Amendment)\n",
    "inv_A = df.InvoiceCode == \"A\"\n",
    "\n",
    "# Quantity Negative\n",
    "q_neg = df.Quantity < 0 \n",
    "\n",
    "# Quantity Positive\n",
    "q_pos = df.Quantity >= 0"
   ]
  },
  {
   "cell_type": "code",
   "execution_count": 46,
   "metadata": {},
   "outputs": [],
   "source": [
    "# Create a Masks Summary Dataframe to store and view the different count across masks\n",
    "df_mask = pd.DataFrame(df.columns)\n",
    "df_mask.columns = ['Features']\n",
    "\n",
    "df_mask['Valid Prices'] = df[valid_price].count().values\n",
    "df_mask['Valid Description'] = df[valid_desc].count().values\n",
    "df_mask['Valid Customer IDs'] = df[valid_CID].count().values\n",
    "df_mask['Invoice Normal'] = df[inv_N].count().values\n",
    "df_mask['Invoice Cancellation'] = df[inv_C].count().values\n",
    "df_mask['Invoice Adjustment'] = df[inv_A].count().values\n",
    "df_mask['Negative Quantities'] = df[q_neg].count().values\n",
    "df_mask['Positive Quantities'] = df[q_pos].count().values"
   ]
  },
  {
   "cell_type": "markdown",
   "metadata": {},
   "source": [
    "Active Population - Paths to Nodes"
   ]
  },
  {
   "cell_type": "code",
   "execution_count": 47,
   "metadata": {},
   "outputs": [],
   "source": [
    "# Path1 - Filter population down to include all \n",
    "# valid Customer IDs with Valid Price and Description\n",
    "p1 = valid_price & valid_desc & valid_CID"
   ]
  },
  {
   "cell_type": "code",
   "execution_count": 48,
   "metadata": {},
   "outputs": [
    {
     "data": {
      "text/html": [
       "<div>\n",
       "<style scoped>\n",
       "    .dataframe tbody tr th:only-of-type {\n",
       "        vertical-align: middle;\n",
       "    }\n",
       "\n",
       "    .dataframe tbody tr th {\n",
       "        vertical-align: top;\n",
       "    }\n",
       "\n",
       "    .dataframe thead th {\n",
       "        text-align: right;\n",
       "    }\n",
       "</style>\n",
       "<table border=\"1\" class=\"dataframe\">\n",
       "  <thead>\n",
       "    <tr style=\"text-align: right;\">\n",
       "      <th></th>\n",
       "      <th>InvoiceNo</th>\n",
       "      <th>StockCode</th>\n",
       "      <th>Description</th>\n",
       "      <th>Quantity</th>\n",
       "      <th>InvoiceDate</th>\n",
       "      <th>UnitPrice</th>\n",
       "      <th>CustomerID</th>\n",
       "      <th>Country</th>\n",
       "      <th>InvoiceNumber</th>\n",
       "      <th>InvoiceCode</th>\n",
       "      <th>Year</th>\n",
       "      <th>Month</th>\n",
       "      <th>YearMonth</th>\n",
       "      <th>Day</th>\n",
       "      <th>Hours</th>\n",
       "    </tr>\n",
       "    <tr>\n",
       "      <th>Date</th>\n",
       "      <th></th>\n",
       "      <th></th>\n",
       "      <th></th>\n",
       "      <th></th>\n",
       "      <th></th>\n",
       "      <th></th>\n",
       "      <th></th>\n",
       "      <th></th>\n",
       "      <th></th>\n",
       "      <th></th>\n",
       "      <th></th>\n",
       "      <th></th>\n",
       "      <th></th>\n",
       "      <th></th>\n",
       "      <th></th>\n",
       "    </tr>\n",
       "  </thead>\n",
       "  <tbody>\n",
       "    <tr>\n",
       "      <th>2010-12-01</th>\n",
       "      <td>536365</td>\n",
       "      <td>85123A</td>\n",
       "      <td>WHITE HANGING HEART T-LIGHT HOLDER</td>\n",
       "      <td>6</td>\n",
       "      <td>2010-12-01 08:26:00</td>\n",
       "      <td>2.55</td>\n",
       "      <td>17850.0</td>\n",
       "      <td>United Kingdom</td>\n",
       "      <td>536365</td>\n",
       "      <td>N</td>\n",
       "      <td>2010</td>\n",
       "      <td>12</td>\n",
       "      <td>201012</td>\n",
       "      <td>1</td>\n",
       "      <td>8</td>\n",
       "    </tr>\n",
       "    <tr>\n",
       "      <th>2010-12-01</th>\n",
       "      <td>536365</td>\n",
       "      <td>71053</td>\n",
       "      <td>WHITE METAL LANTERN</td>\n",
       "      <td>6</td>\n",
       "      <td>2010-12-01 08:26:00</td>\n",
       "      <td>3.39</td>\n",
       "      <td>17850.0</td>\n",
       "      <td>United Kingdom</td>\n",
       "      <td>536365</td>\n",
       "      <td>N</td>\n",
       "      <td>2010</td>\n",
       "      <td>12</td>\n",
       "      <td>201012</td>\n",
       "      <td>1</td>\n",
       "      <td>8</td>\n",
       "    </tr>\n",
       "    <tr>\n",
       "      <th>2010-12-01</th>\n",
       "      <td>536365</td>\n",
       "      <td>84406B</td>\n",
       "      <td>CREAM CUPID HEARTS COAT HANGER</td>\n",
       "      <td>8</td>\n",
       "      <td>2010-12-01 08:26:00</td>\n",
       "      <td>2.75</td>\n",
       "      <td>17850.0</td>\n",
       "      <td>United Kingdom</td>\n",
       "      <td>536365</td>\n",
       "      <td>N</td>\n",
       "      <td>2010</td>\n",
       "      <td>12</td>\n",
       "      <td>201012</td>\n",
       "      <td>1</td>\n",
       "      <td>8</td>\n",
       "    </tr>\n",
       "    <tr>\n",
       "      <th>2010-12-01</th>\n",
       "      <td>536365</td>\n",
       "      <td>84029G</td>\n",
       "      <td>KNITTED UNION FLAG HOT WATER BOTTLE</td>\n",
       "      <td>6</td>\n",
       "      <td>2010-12-01 08:26:00</td>\n",
       "      <td>3.39</td>\n",
       "      <td>17850.0</td>\n",
       "      <td>United Kingdom</td>\n",
       "      <td>536365</td>\n",
       "      <td>N</td>\n",
       "      <td>2010</td>\n",
       "      <td>12</td>\n",
       "      <td>201012</td>\n",
       "      <td>1</td>\n",
       "      <td>8</td>\n",
       "    </tr>\n",
       "    <tr>\n",
       "      <th>2010-12-01</th>\n",
       "      <td>536365</td>\n",
       "      <td>84029E</td>\n",
       "      <td>RED WOOLLY HOTTIE WHITE HEART.</td>\n",
       "      <td>6</td>\n",
       "      <td>2010-12-01 08:26:00</td>\n",
       "      <td>3.39</td>\n",
       "      <td>17850.0</td>\n",
       "      <td>United Kingdom</td>\n",
       "      <td>536365</td>\n",
       "      <td>N</td>\n",
       "      <td>2010</td>\n",
       "      <td>12</td>\n",
       "      <td>201012</td>\n",
       "      <td>1</td>\n",
       "      <td>8</td>\n",
       "    </tr>\n",
       "  </tbody>\n",
       "</table>\n",
       "</div>"
      ],
      "text/plain": [
       "           InvoiceNo StockCode                          Description  Quantity  \\\n",
       "Date                                                                            \n",
       "2010-12-01    536365    85123A   WHITE HANGING HEART T-LIGHT HOLDER         6   \n",
       "2010-12-01    536365     71053                  WHITE METAL LANTERN         6   \n",
       "2010-12-01    536365    84406B       CREAM CUPID HEARTS COAT HANGER         8   \n",
       "2010-12-01    536365    84029G  KNITTED UNION FLAG HOT WATER BOTTLE         6   \n",
       "2010-12-01    536365    84029E       RED WOOLLY HOTTIE WHITE HEART.         6   \n",
       "\n",
       "                   InvoiceDate  UnitPrice  CustomerID         Country  \\\n",
       "Date                                                                    \n",
       "2010-12-01 2010-12-01 08:26:00       2.55     17850.0  United Kingdom   \n",
       "2010-12-01 2010-12-01 08:26:00       3.39     17850.0  United Kingdom   \n",
       "2010-12-01 2010-12-01 08:26:00       2.75     17850.0  United Kingdom   \n",
       "2010-12-01 2010-12-01 08:26:00       3.39     17850.0  United Kingdom   \n",
       "2010-12-01 2010-12-01 08:26:00       3.39     17850.0  United Kingdom   \n",
       "\n",
       "           InvoiceNumber InvoiceCode  Year  Month  YearMonth  Day  Hours  \n",
       "Date                                                                      \n",
       "2010-12-01        536365           N  2010     12     201012    1      8  \n",
       "2010-12-01        536365           N  2010     12     201012    1      8  \n",
       "2010-12-01        536365           N  2010     12     201012    1      8  \n",
       "2010-12-01        536365           N  2010     12     201012    1      8  \n",
       "2010-12-01        536365           N  2010     12     201012    1      8  "
      ]
     },
     "execution_count": 48,
     "metadata": {},
     "output_type": "execute_result"
    }
   ],
   "source": [
    "\n",
    "# Path1 - Filter population down to include all \n",
    "# valid Customer IDs with Valid Price and Description\n",
    "p1 = valid_price & valid_desc & valid_CID\n",
    "\n",
    "# Path2 - Filter population down to include all \n",
    "# Normal (type-N) transactions with Positive Quantities\n",
    "p2 = inv_N & q_pos\n",
    "\n",
    "# Path3 - Filter population down to include all \n",
    "# Cancel (type-C) or Adjust (type-A) transactions \n",
    "# with Negative Quanitities\n",
    "p3 = (inv_A | inv_C) & q_neg\n",
    "\n",
    "# Path to Leafs: Combine Paths 1, 2 and 3:\n",
    "# *************** CREATE A COPY ************\n",
    "df_pp = df.loc[p1 & (p2 | p3)].copy()\n",
    "\n",
    "# Inspect new pre-processed and clean dataset\n",
    "df_pp.head()"
   ]
  },
  {
   "cell_type": "markdown",
   "metadata": {},
   "source": [
    "## Data Inspection and visualisations "
   ]
  },
  {
   "cell_type": "code",
   "execution_count": 49,
   "metadata": {},
   "outputs": [],
   "source": [
    "# Increase default figure and font sizes for easier viewing.\n",
    "plt.style.use('seaborn-colorblind')\n",
    "sns.set_style('darkgrid')\n",
    "%matplotlib inline\n",
    "\n",
    "plt.rcParams['figure.figsize'] = (12, 6)\n",
    "plt.rcParams['font.size'] = 12"
   ]
  },
  {
   "cell_type": "code",
   "execution_count": 50,
   "metadata": {},
   "outputs": [
    {
     "data": {
      "image/png": "[encoded data removed]",
      "text/plain": [
       "<Figure size 864x432 with 1 Axes>"
      ]
     },
     "metadata": {
      "needs_background": "light"
     },
     "output_type": "display_data"
    }
   ],
   "source": [
    "\n",
    "# Review which countries do the orders come from\n",
    "df_pp.Country.value_counts()[0:10].plot(kind='barh');\n",
    "plt.title('Number of orders per Country')\n",
    "plt.xlabel('Order Quantity');\n",
    "plt.ylabel('Count');"
   ]
  },
  {
   "cell_type": "code",
   "execution_count": 51,
   "metadata": {},
   "outputs": [
    {
     "data": {
      "image/png": "[encoded data removed]",
      "text/plain": [
       "<Figure size 864x432 with 2 Axes>"
      ]
     },
     "metadata": {
      "needs_background": "light"
     },
     "output_type": "display_data"
    }
   ],
   "source": [
    "fig = plt.figure()\n",
    "\n",
    "# Plotting the number of Quantities per invoice (Top end)\n",
    "ax1 = fig.add_subplot(211)\n",
    "df_pp.groupby('InvoiceNo').Quantity.count().sort_values(ascending = False )[:200].plot(kind = 'hist',ax=ax1)\n",
    "ax1.xaxis.set_label_text('Number of products per Invoice (Top end - Largest 100 orders in Quantity)');\n",
    "ax1.yaxis.set_label_text('Number of Invoices ');\n",
    "\n",
    "# Plotting the number of Quantities per invoice (All)\n",
    "ax2 = fig.add_subplot(212)\n",
    "df_pp.groupby('InvoiceNo').Quantity.count().sort_values(ascending = False).plot(kind='hist', ax=ax2);\n",
    "ax2.xaxis.set_label_text('Number of products per invoice (All)');\n",
    "ax2.yaxis.set_label_text('Number of invoices');\n",
    "fig.subplots_adjust(hspace=0.5)"
   ]
  },
  {
   "cell_type": "markdown",
   "metadata": {},
   "source": [
    "## Modelling - Part 4 - RFM Modelling"
   ]
  },
  {
   "cell_type": "markdown",
   "metadata": {},
   "source": [
    "### Recency Score "
   ]
  },
  {
   "cell_type": "code",
   "execution_count": 52,
   "metadata": {},
   "outputs": [],
   "source": [
    "# Generate new dataframe based on unique CustomerID to keep track of RFM scores\n",
    "customer = pd.DataFrame(df_pp['CustomerID'].unique())\n",
    "customer.columns = ['CustomerID']"
   ]
  },
  {
   "cell_type": "code",
   "execution_count": 53,
   "metadata": {},
   "outputs": [],
   "source": [
    "# Generate new data frame based on latest Invoice date from retail_ppp dataframe per Customer (groupby = CustomerID)\n",
    "recency = df_pp.groupby('CustomerID').InvoiceDate.max().reset_index()\n",
    "recency.columns = ['CustomerID','LastPurchaseDate']\n",
    "\n",
    "# Set observation point as the last invoice date in the dataset\n",
    "LastInvoiceDate = recency['LastPurchaseDate'].max()\n",
    "\n",
    "# Generate Recency in days by subtracting the Last Purchase date for each customer from the Last Invoice Date\n",
    "recency['Recency'] = (LastInvoiceDate - recency['LastPurchaseDate']).dt.days"
   ]
  },
  {
   "cell_type": "code",
   "execution_count": 54,
   "metadata": {},
   "outputs": [
    {
     "data": {
      "text/html": [
       "<div>\n",
       "<style scoped>\n",
       "    .dataframe tbody tr th:only-of-type {\n",
       "        vertical-align: middle;\n",
       "    }\n",
       "\n",
       "    .dataframe tbody tr th {\n",
       "        vertical-align: top;\n",
       "    }\n",
       "\n",
       "    .dataframe thead th {\n",
       "        text-align: right;\n",
       "    }\n",
       "</style>\n",
       "<table border=\"1\" class=\"dataframe\">\n",
       "  <thead>\n",
       "    <tr style=\"text-align: right;\">\n",
       "      <th></th>\n",
       "      <th>CustomerID</th>\n",
       "      <th>Recency</th>\n",
       "    </tr>\n",
       "  </thead>\n",
       "  <tbody>\n",
       "    <tr>\n",
       "      <th>0</th>\n",
       "      <td>17850.0</td>\n",
       "      <td>301</td>\n",
       "    </tr>\n",
       "    <tr>\n",
       "      <th>1</th>\n",
       "      <td>13047.0</td>\n",
       "      <td>31</td>\n",
       "    </tr>\n",
       "    <tr>\n",
       "      <th>2</th>\n",
       "      <td>12583.0</td>\n",
       "      <td>2</td>\n",
       "    </tr>\n",
       "    <tr>\n",
       "      <th>3</th>\n",
       "      <td>13748.0</td>\n",
       "      <td>95</td>\n",
       "    </tr>\n",
       "    <tr>\n",
       "      <th>4</th>\n",
       "      <td>15100.0</td>\n",
       "      <td>329</td>\n",
       "    </tr>\n",
       "  </tbody>\n",
       "</table>\n",
       "</div>"
      ],
      "text/plain": [
       "   CustomerID  Recency\n",
       "0     17850.0      301\n",
       "1     13047.0       31\n",
       "2     12583.0        2\n",
       "3     13748.0       95\n",
       "4     15100.0      329"
      ]
     },
     "execution_count": 54,
     "metadata": {},
     "output_type": "execute_result"
    }
   ],
   "source": [
    "# Consolidate to customer DataFrame\n",
    "customer = pd.merge(customer, recency[['CustomerID','Recency']], on='CustomerID')\n",
    "customer.head()"
   ]
  },
  {
   "cell_type": "code",
   "execution_count": 55,
   "metadata": {},
   "outputs": [
    {
     "data": {
      "text/html": [
       "<div>\n",
       "<style scoped>\n",
       "    .dataframe tbody tr th:only-of-type {\n",
       "        vertical-align: middle;\n",
       "    }\n",
       "\n",
       "    .dataframe tbody tr th {\n",
       "        vertical-align: top;\n",
       "    }\n",
       "\n",
       "    .dataframe thead th {\n",
       "        text-align: right;\n",
       "    }\n",
       "</style>\n",
       "<table border=\"1\" class=\"dataframe\">\n",
       "  <thead>\n",
       "    <tr style=\"text-align: right;\">\n",
       "      <th></th>\n",
       "      <th>CustomerID</th>\n",
       "      <th>Recency</th>\n",
       "    </tr>\n",
       "  </thead>\n",
       "  <tbody>\n",
       "    <tr>\n",
       "      <th>count</th>\n",
       "      <td>4372.000000</td>\n",
       "      <td>4372.000000</td>\n",
       "    </tr>\n",
       "    <tr>\n",
       "      <th>mean</th>\n",
       "      <td>15299.677722</td>\n",
       "      <td>91.047118</td>\n",
       "    </tr>\n",
       "    <tr>\n",
       "      <th>std</th>\n",
       "      <td>1722.390705</td>\n",
       "      <td>100.765435</td>\n",
       "    </tr>\n",
       "    <tr>\n",
       "      <th>min</th>\n",
       "      <td>12346.000000</td>\n",
       "      <td>0.000000</td>\n",
       "    </tr>\n",
       "    <tr>\n",
       "      <th>25%</th>\n",
       "      <td>13812.750000</td>\n",
       "      <td>16.000000</td>\n",
       "    </tr>\n",
       "    <tr>\n",
       "      <th>50%</th>\n",
       "      <td>15300.500000</td>\n",
       "      <td>49.000000</td>\n",
       "    </tr>\n",
       "    <tr>\n",
       "      <th>75%</th>\n",
       "      <td>16778.250000</td>\n",
       "      <td>142.000000</td>\n",
       "    </tr>\n",
       "    <tr>\n",
       "      <th>max</th>\n",
       "      <td>18287.000000</td>\n",
       "      <td>373.000000</td>\n",
       "    </tr>\n",
       "  </tbody>\n",
       "</table>\n",
       "</div>"
      ],
      "text/plain": [
       "         CustomerID      Recency\n",
       "count   4372.000000  4372.000000\n",
       "mean   15299.677722    91.047118\n",
       "std     1722.390705   100.765435\n",
       "min    12346.000000     0.000000\n",
       "25%    13812.750000    16.000000\n",
       "50%    15300.500000    49.000000\n",
       "75%    16778.250000   142.000000\n",
       "max    18287.000000   373.000000"
      ]
     },
     "execution_count": 55,
     "metadata": {},
     "output_type": "execute_result"
    }
   ],
   "source": [
    "# Review statistics around Recency score \n",
    "customer.describe()"
   ]
  },
  {
   "cell_type": "code",
   "execution_count": 56,
   "metadata": {},
   "outputs": [
    {
     "data": {
      "image/png": "[encoded data removed]",
      "text/plain": [
       "<Figure size 864x432 with 1 Axes>"
      ]
     },
     "metadata": {
      "needs_background": "light"
     },
     "output_type": "display_data"
    }
   ],
   "source": [
    "# Plot Recency\n",
    "customer.Recency.plot.hist();\n",
    "plt.xlabel(\"Recency in days\")\n",
    "plt.ylabel(\"Number of Customers\")\n",
    "plt.title(\"Recency Histogram\");"
   ]
  },
  {
   "cell_type": "markdown",
   "metadata": {},
   "source": [
    "### Frequency Score "
   ]
  },
  {
   "cell_type": "code",
   "execution_count": 57,
   "metadata": {},
   "outputs": [],
   "source": [
    "# Count number of invoices per CustomerID and store in new frequency Dataframe\n",
    "frequency = df_pp.groupby('CustomerID').InvoiceDate.count().reset_index()\n",
    "frequency.columns = ['CustomerID','Frequency']\n",
    "\n",
    "# Consolidate Frequency to existing Customer DataFrame\n",
    "customer = pd.merge(customer, frequency, on='CustomerID')"
   ]
  },
  {
   "cell_type": "code",
   "execution_count": 58,
   "metadata": {},
   "outputs": [
    {
     "data": {
      "text/html": [
       "<div>\n",
       "<style scoped>\n",
       "    .dataframe tbody tr th:only-of-type {\n",
       "        vertical-align: middle;\n",
       "    }\n",
       "\n",
       "    .dataframe tbody tr th {\n",
       "        vertical-align: top;\n",
       "    }\n",
       "\n",
       "    .dataframe thead th {\n",
       "        text-align: right;\n",
       "    }\n",
       "</style>\n",
       "<table border=\"1\" class=\"dataframe\">\n",
       "  <thead>\n",
       "    <tr style=\"text-align: right;\">\n",
       "      <th></th>\n",
       "      <th>CustomerID</th>\n",
       "      <th>Recency</th>\n",
       "      <th>Frequency</th>\n",
       "    </tr>\n",
       "  </thead>\n",
       "  <tbody>\n",
       "    <tr>\n",
       "      <th>0</th>\n",
       "      <td>17850.0</td>\n",
       "      <td>301</td>\n",
       "      <td>312</td>\n",
       "    </tr>\n",
       "    <tr>\n",
       "      <th>1</th>\n",
       "      <td>13047.0</td>\n",
       "      <td>31</td>\n",
       "      <td>196</td>\n",
       "    </tr>\n",
       "    <tr>\n",
       "      <th>2</th>\n",
       "      <td>12583.0</td>\n",
       "      <td>2</td>\n",
       "      <td>251</td>\n",
       "    </tr>\n",
       "    <tr>\n",
       "      <th>3</th>\n",
       "      <td>13748.0</td>\n",
       "      <td>95</td>\n",
       "      <td>28</td>\n",
       "    </tr>\n",
       "    <tr>\n",
       "      <th>4</th>\n",
       "      <td>15100.0</td>\n",
       "      <td>329</td>\n",
       "      <td>6</td>\n",
       "    </tr>\n",
       "  </tbody>\n",
       "</table>\n",
       "</div>"
      ],
      "text/plain": [
       "   CustomerID  Recency  Frequency\n",
       "0     17850.0      301        312\n",
       "1     13047.0       31        196\n",
       "2     12583.0        2        251\n",
       "3     13748.0       95         28\n",
       "4     15100.0      329          6"
      ]
     },
     "execution_count": 58,
     "metadata": {},
     "output_type": "execute_result"
    }
   ],
   "source": [
    "customer.head()\n"
   ]
  },
  {
   "cell_type": "code",
   "execution_count": 59,
   "metadata": {},
   "outputs": [
    {
     "data": {
      "text/html": [
       "<div>\n",
       "<style scoped>\n",
       "    .dataframe tbody tr th:only-of-type {\n",
       "        vertical-align: middle;\n",
       "    }\n",
       "\n",
       "    .dataframe tbody tr th {\n",
       "        vertical-align: top;\n",
       "    }\n",
       "\n",
       "    .dataframe thead th {\n",
       "        text-align: right;\n",
       "    }\n",
       "</style>\n",
       "<table border=\"1\" class=\"dataframe\">\n",
       "  <thead>\n",
       "    <tr style=\"text-align: right;\">\n",
       "      <th></th>\n",
       "      <th>CustomerID</th>\n",
       "      <th>Recency</th>\n",
       "      <th>Frequency</th>\n",
       "    </tr>\n",
       "  </thead>\n",
       "  <tbody>\n",
       "    <tr>\n",
       "      <th>count</th>\n",
       "      <td>4372.000000</td>\n",
       "      <td>4372.000000</td>\n",
       "      <td>4372.000000</td>\n",
       "    </tr>\n",
       "    <tr>\n",
       "      <th>mean</th>\n",
       "      <td>15299.677722</td>\n",
       "      <td>91.047118</td>\n",
       "      <td>93.053294</td>\n",
       "    </tr>\n",
       "    <tr>\n",
       "      <th>std</th>\n",
       "      <td>1722.390705</td>\n",
       "      <td>100.765435</td>\n",
       "      <td>232.471608</td>\n",
       "    </tr>\n",
       "    <tr>\n",
       "      <th>min</th>\n",
       "      <td>12346.000000</td>\n",
       "      <td>0.000000</td>\n",
       "      <td>1.000000</td>\n",
       "    </tr>\n",
       "    <tr>\n",
       "      <th>25%</th>\n",
       "      <td>13812.750000</td>\n",
       "      <td>16.000000</td>\n",
       "      <td>17.000000</td>\n",
       "    </tr>\n",
       "    <tr>\n",
       "      <th>50%</th>\n",
       "      <td>15300.500000</td>\n",
       "      <td>49.000000</td>\n",
       "      <td>42.000000</td>\n",
       "    </tr>\n",
       "    <tr>\n",
       "      <th>75%</th>\n",
       "      <td>16778.250000</td>\n",
       "      <td>142.000000</td>\n",
       "      <td>102.000000</td>\n",
       "    </tr>\n",
       "    <tr>\n",
       "      <th>max</th>\n",
       "      <td>18287.000000</td>\n",
       "      <td>373.000000</td>\n",
       "      <td>7983.000000</td>\n",
       "    </tr>\n",
       "  </tbody>\n",
       "</table>\n",
       "</div>"
      ],
      "text/plain": [
       "         CustomerID      Recency    Frequency\n",
       "count   4372.000000  4372.000000  4372.000000\n",
       "mean   15299.677722    91.047118    93.053294\n",
       "std     1722.390705   100.765435   232.471608\n",
       "min    12346.000000     0.000000     1.000000\n",
       "25%    13812.750000    16.000000    17.000000\n",
       "50%    15300.500000    49.000000    42.000000\n",
       "75%    16778.250000   142.000000   102.000000\n",
       "max    18287.000000   373.000000  7983.000000"
      ]
     },
     "execution_count": 59,
     "metadata": {},
     "output_type": "execute_result"
    }
   ],
   "source": [
    "customer.describe()"
   ]
  },
  {
   "cell_type": "code",
   "execution_count": 60,
   "metadata": {},
   "outputs": [
    {
     "data": {
      "text/plain": [
       "(4372,)"
      ]
     },
     "execution_count": 60,
     "metadata": {},
     "output_type": "execute_result"
    }
   ],
   "source": [
    "customer.Frequency.shape"
   ]
  },
  {
   "cell_type": "code",
   "execution_count": 61,
   "metadata": {},
   "outputs": [
    {
     "data": {
      "image/png": "[encoded data removed]",
      "text/plain": [
       "<Figure size 864x432 with 1 Axes>"
      ]
     },
     "metadata": {
      "needs_background": "light"
     },
     "output_type": "display_data"
    }
   ],
   "source": [
    "# Plot Frequency\n",
    "# Frequency seems to have some outliers, with vey high frequency, but very few in numbers\n",
    "# In order to plot effectively and not have a skewed diagram, we've sorted the frequencies\n",
    "# and cropped the top 72 values in our diagram\n",
    "customer.Frequency.sort_values().head(4300).plot.hist();\n",
    "plt.xlabel(\"Frequency in days\")\n",
    "plt.ylabel(\"Number of Customers\")\n",
    "plt.title(\"Frequency Histogram\");"
   ]
  },
  {
   "cell_type": "markdown",
   "metadata": {},
   "source": [
    "### Monetery Value Score (Revenue)"
   ]
  },
  {
   "cell_type": "markdown",
   "metadata": {},
   "source": [
    "Revenue per transaction calculated by (df_pp.UnitPrice * df_pp.Quantity)"
   ]
  },
  {
   "cell_type": "code",
   "execution_count": 62,
   "metadata": {},
   "outputs": [
    {
     "data": {
      "text/html": [
       "<div>\n",
       "<style scoped>\n",
       "    .dataframe tbody tr th:only-of-type {\n",
       "        vertical-align: middle;\n",
       "    }\n",
       "\n",
       "    .dataframe tbody tr th {\n",
       "        vertical-align: top;\n",
       "    }\n",
       "\n",
       "    .dataframe thead th {\n",
       "        text-align: right;\n",
       "    }\n",
       "</style>\n",
       "<table border=\"1\" class=\"dataframe\">\n",
       "  <thead>\n",
       "    <tr style=\"text-align: right;\">\n",
       "      <th></th>\n",
       "      <th>InvoiceNo</th>\n",
       "      <th>StockCode</th>\n",
       "      <th>Description</th>\n",
       "      <th>Quantity</th>\n",
       "      <th>InvoiceDate</th>\n",
       "      <th>UnitPrice</th>\n",
       "      <th>CustomerID</th>\n",
       "      <th>Country</th>\n",
       "      <th>InvoiceNumber</th>\n",
       "      <th>InvoiceCode</th>\n",
       "      <th>Year</th>\n",
       "      <th>Month</th>\n",
       "      <th>YearMonth</th>\n",
       "      <th>Day</th>\n",
       "      <th>Hours</th>\n",
       "      <th>Revenue</th>\n",
       "    </tr>\n",
       "    <tr>\n",
       "      <th>Date</th>\n",
       "      <th></th>\n",
       "      <th></th>\n",
       "      <th></th>\n",
       "      <th></th>\n",
       "      <th></th>\n",
       "      <th></th>\n",
       "      <th></th>\n",
       "      <th></th>\n",
       "      <th></th>\n",
       "      <th></th>\n",
       "      <th></th>\n",
       "      <th></th>\n",
       "      <th></th>\n",
       "      <th></th>\n",
       "      <th></th>\n",
       "      <th></th>\n",
       "    </tr>\n",
       "  </thead>\n",
       "  <tbody>\n",
       "    <tr>\n",
       "      <th>2010-12-01</th>\n",
       "      <td>536365</td>\n",
       "      <td>85123A</td>\n",
       "      <td>WHITE HANGING HEART T-LIGHT HOLDER</td>\n",
       "      <td>6</td>\n",
       "      <td>2010-12-01 08:26:00</td>\n",
       "      <td>2.55</td>\n",
       "      <td>17850.0</td>\n",
       "      <td>United Kingdom</td>\n",
       "      <td>536365</td>\n",
       "      <td>N</td>\n",
       "      <td>2010</td>\n",
       "      <td>12</td>\n",
       "      <td>201012</td>\n",
       "      <td>1</td>\n",
       "      <td>8</td>\n",
       "      <td>15.30</td>\n",
       "    </tr>\n",
       "    <tr>\n",
       "      <th>2010-12-01</th>\n",
       "      <td>536365</td>\n",
       "      <td>71053</td>\n",
       "      <td>WHITE METAL LANTERN</td>\n",
       "      <td>6</td>\n",
       "      <td>2010-12-01 08:26:00</td>\n",
       "      <td>3.39</td>\n",
       "      <td>17850.0</td>\n",
       "      <td>United Kingdom</td>\n",
       "      <td>536365</td>\n",
       "      <td>N</td>\n",
       "      <td>2010</td>\n",
       "      <td>12</td>\n",
       "      <td>201012</td>\n",
       "      <td>1</td>\n",
       "      <td>8</td>\n",
       "      <td>20.34</td>\n",
       "    </tr>\n",
       "    <tr>\n",
       "      <th>2010-12-01</th>\n",
       "      <td>536365</td>\n",
       "      <td>84406B</td>\n",
       "      <td>CREAM CUPID HEARTS COAT HANGER</td>\n",
       "      <td>8</td>\n",
       "      <td>2010-12-01 08:26:00</td>\n",
       "      <td>2.75</td>\n",
       "      <td>17850.0</td>\n",
       "      <td>United Kingdom</td>\n",
       "      <td>536365</td>\n",
       "      <td>N</td>\n",
       "      <td>2010</td>\n",
       "      <td>12</td>\n",
       "      <td>201012</td>\n",
       "      <td>1</td>\n",
       "      <td>8</td>\n",
       "      <td>22.00</td>\n",
       "    </tr>\n",
       "    <tr>\n",
       "      <th>2010-12-01</th>\n",
       "      <td>536365</td>\n",
       "      <td>84029G</td>\n",
       "      <td>KNITTED UNION FLAG HOT WATER BOTTLE</td>\n",
       "      <td>6</td>\n",
       "      <td>2010-12-01 08:26:00</td>\n",
       "      <td>3.39</td>\n",
       "      <td>17850.0</td>\n",
       "      <td>United Kingdom</td>\n",
       "      <td>536365</td>\n",
       "      <td>N</td>\n",
       "      <td>2010</td>\n",
       "      <td>12</td>\n",
       "      <td>201012</td>\n",
       "      <td>1</td>\n",
       "      <td>8</td>\n",
       "      <td>20.34</td>\n",
       "    </tr>\n",
       "    <tr>\n",
       "      <th>2010-12-01</th>\n",
       "      <td>536365</td>\n",
       "      <td>84029E</td>\n",
       "      <td>RED WOOLLY HOTTIE WHITE HEART.</td>\n",
       "      <td>6</td>\n",
       "      <td>2010-12-01 08:26:00</td>\n",
       "      <td>3.39</td>\n",
       "      <td>17850.0</td>\n",
       "      <td>United Kingdom</td>\n",
       "      <td>536365</td>\n",
       "      <td>N</td>\n",
       "      <td>2010</td>\n",
       "      <td>12</td>\n",
       "      <td>201012</td>\n",
       "      <td>1</td>\n",
       "      <td>8</td>\n",
       "      <td>20.34</td>\n",
       "    </tr>\n",
       "  </tbody>\n",
       "</table>\n",
       "</div>"
      ],
      "text/plain": [
       "           InvoiceNo StockCode                          Description  Quantity  \\\n",
       "Date                                                                            \n",
       "2010-12-01    536365    85123A   WHITE HANGING HEART T-LIGHT HOLDER         6   \n",
       "2010-12-01    536365     71053                  WHITE METAL LANTERN         6   \n",
       "2010-12-01    536365    84406B       CREAM CUPID HEARTS COAT HANGER         8   \n",
       "2010-12-01    536365    84029G  KNITTED UNION FLAG HOT WATER BOTTLE         6   \n",
       "2010-12-01    536365    84029E       RED WOOLLY HOTTIE WHITE HEART.         6   \n",
       "\n",
       "                   InvoiceDate  UnitPrice  CustomerID         Country  \\\n",
       "Date                                                                    \n",
       "2010-12-01 2010-12-01 08:26:00       2.55     17850.0  United Kingdom   \n",
       "2010-12-01 2010-12-01 08:26:00       3.39     17850.0  United Kingdom   \n",
       "2010-12-01 2010-12-01 08:26:00       2.75     17850.0  United Kingdom   \n",
       "2010-12-01 2010-12-01 08:26:00       3.39     17850.0  United Kingdom   \n",
       "2010-12-01 2010-12-01 08:26:00       3.39     17850.0  United Kingdom   \n",
       "\n",
       "           InvoiceNumber InvoiceCode  Year  Month  YearMonth  Day  Hours  \\\n",
       "Date                                                                       \n",
       "2010-12-01        536365           N  2010     12     201012    1      8   \n",
       "2010-12-01        536365           N  2010     12     201012    1      8   \n",
       "2010-12-01        536365           N  2010     12     201012    1      8   \n",
       "2010-12-01        536365           N  2010     12     201012    1      8   \n",
       "2010-12-01        536365           N  2010     12     201012    1      8   \n",
       "\n",
       "            Revenue  \n",
       "Date                 \n",
       "2010-12-01    15.30  \n",
       "2010-12-01    20.34  \n",
       "2010-12-01    22.00  \n",
       "2010-12-01    20.34  \n",
       "2010-12-01    20.34  "
      ]
     },
     "execution_count": 62,
     "metadata": {},
     "output_type": "execute_result"
    }
   ],
   "source": [
    "df_pp['Revenue'] = df_pp.UnitPrice * df_pp.Quantity\n",
    "df_pp.head()"
   ]
  },
  {
   "cell_type": "code",
   "execution_count": 63,
   "metadata": {},
   "outputs": [
    {
     "data": {
      "text/html": [
       "<div>\n",
       "<style scoped>\n",
       "    .dataframe tbody tr th:only-of-type {\n",
       "        vertical-align: middle;\n",
       "    }\n",
       "\n",
       "    .dataframe tbody tr th {\n",
       "        vertical-align: top;\n",
       "    }\n",
       "\n",
       "    .dataframe thead th {\n",
       "        text-align: right;\n",
       "    }\n",
       "</style>\n",
       "<table border=\"1\" class=\"dataframe\">\n",
       "  <thead>\n",
       "    <tr style=\"text-align: right;\">\n",
       "      <th></th>\n",
       "      <th>CustomerID</th>\n",
       "      <th>Recency</th>\n",
       "      <th>Frequency</th>\n",
       "      <th>Revenue</th>\n",
       "    </tr>\n",
       "  </thead>\n",
       "  <tbody>\n",
       "    <tr>\n",
       "      <th>0</th>\n",
       "      <td>17850.0</td>\n",
       "      <td>301</td>\n",
       "      <td>312</td>\n",
       "      <td>5288.63</td>\n",
       "    </tr>\n",
       "    <tr>\n",
       "      <th>1</th>\n",
       "      <td>13047.0</td>\n",
       "      <td>31</td>\n",
       "      <td>196</td>\n",
       "      <td>3079.10</td>\n",
       "    </tr>\n",
       "    <tr>\n",
       "      <th>2</th>\n",
       "      <td>12583.0</td>\n",
       "      <td>2</td>\n",
       "      <td>251</td>\n",
       "      <td>7187.34</td>\n",
       "    </tr>\n",
       "    <tr>\n",
       "      <th>3</th>\n",
       "      <td>13748.0</td>\n",
       "      <td>95</td>\n",
       "      <td>28</td>\n",
       "      <td>948.25</td>\n",
       "    </tr>\n",
       "    <tr>\n",
       "      <th>4</th>\n",
       "      <td>15100.0</td>\n",
       "      <td>329</td>\n",
       "      <td>6</td>\n",
       "      <td>635.10</td>\n",
       "    </tr>\n",
       "  </tbody>\n",
       "</table>\n",
       "</div>"
      ],
      "text/plain": [
       "   CustomerID  Recency  Frequency  Revenue\n",
       "0     17850.0      301        312  5288.63\n",
       "1     13047.0       31        196  3079.10\n",
       "2     12583.0        2        251  7187.34\n",
       "3     13748.0       95         28   948.25\n",
       "4     15100.0      329          6   635.10"
      ]
     },
     "execution_count": 63,
     "metadata": {},
     "output_type": "execute_result"
    }
   ],
   "source": [
    "# Revenue per transaction has already been calculated as per KPIs section\n",
    "# Grouping revenue per Customer ID\n",
    "revenue = df_pp.groupby('CustomerID').Revenue.sum().reset_index()\n",
    "\n",
    "# Consolidate Revenue to existing Customer DataFrame\n",
    "customer = pd.merge(customer, revenue, on='CustomerID')\n",
    "customer.head()"
   ]
  },
  {
   "cell_type": "code",
   "execution_count": 64,
   "metadata": {},
   "outputs": [
    {
     "data": {
      "text/html": [
       "<div>\n",
       "<style scoped>\n",
       "    .dataframe tbody tr th:only-of-type {\n",
       "        vertical-align: middle;\n",
       "    }\n",
       "\n",
       "    .dataframe tbody tr th {\n",
       "        vertical-align: top;\n",
       "    }\n",
       "\n",
       "    .dataframe thead th {\n",
       "        text-align: right;\n",
       "    }\n",
       "</style>\n",
       "<table border=\"1\" class=\"dataframe\">\n",
       "  <thead>\n",
       "    <tr style=\"text-align: right;\">\n",
       "      <th></th>\n",
       "      <th>CustomerID</th>\n",
       "      <th>Recency</th>\n",
       "      <th>Frequency</th>\n",
       "      <th>Revenue</th>\n",
       "    </tr>\n",
       "  </thead>\n",
       "  <tbody>\n",
       "    <tr>\n",
       "      <th>count</th>\n",
       "      <td>4372.000000</td>\n",
       "      <td>4372.000000</td>\n",
       "      <td>4372.000000</td>\n",
       "      <td>4372.000000</td>\n",
       "    </tr>\n",
       "    <tr>\n",
       "      <th>mean</th>\n",
       "      <td>15299.677722</td>\n",
       "      <td>91.047118</td>\n",
       "      <td>93.053294</td>\n",
       "      <td>1898.459701</td>\n",
       "    </tr>\n",
       "    <tr>\n",
       "      <th>std</th>\n",
       "      <td>1722.390705</td>\n",
       "      <td>100.765435</td>\n",
       "      <td>232.471608</td>\n",
       "      <td>8219.345141</td>\n",
       "    </tr>\n",
       "    <tr>\n",
       "      <th>min</th>\n",
       "      <td>12346.000000</td>\n",
       "      <td>0.000000</td>\n",
       "      <td>1.000000</td>\n",
       "      <td>-4287.630000</td>\n",
       "    </tr>\n",
       "    <tr>\n",
       "      <th>25%</th>\n",
       "      <td>13812.750000</td>\n",
       "      <td>16.000000</td>\n",
       "      <td>17.000000</td>\n",
       "      <td>293.362500</td>\n",
       "    </tr>\n",
       "    <tr>\n",
       "      <th>50%</th>\n",
       "      <td>15300.500000</td>\n",
       "      <td>49.000000</td>\n",
       "      <td>42.000000</td>\n",
       "      <td>648.075000</td>\n",
       "    </tr>\n",
       "    <tr>\n",
       "      <th>75%</th>\n",
       "      <td>16778.250000</td>\n",
       "      <td>142.000000</td>\n",
       "      <td>102.000000</td>\n",
       "      <td>1611.725000</td>\n",
       "    </tr>\n",
       "    <tr>\n",
       "      <th>max</th>\n",
       "      <td>18287.000000</td>\n",
       "      <td>373.000000</td>\n",
       "      <td>7983.000000</td>\n",
       "      <td>279489.020000</td>\n",
       "    </tr>\n",
       "  </tbody>\n",
       "</table>\n",
       "</div>"
      ],
      "text/plain": [
       "         CustomerID      Recency    Frequency        Revenue\n",
       "count   4372.000000  4372.000000  4372.000000    4372.000000\n",
       "mean   15299.677722    91.047118    93.053294    1898.459701\n",
       "std     1722.390705   100.765435   232.471608    8219.345141\n",
       "min    12346.000000     0.000000     1.000000   -4287.630000\n",
       "25%    13812.750000    16.000000    17.000000     293.362500\n",
       "50%    15300.500000    49.000000    42.000000     648.075000\n",
       "75%    16778.250000   142.000000   102.000000    1611.725000\n",
       "max    18287.000000   373.000000  7983.000000  279489.020000"
      ]
     },
     "execution_count": 64,
     "metadata": {},
     "output_type": "execute_result"
    }
   ],
   "source": [
    "customer.describe()"
   ]
  },
  {
   "cell_type": "code",
   "execution_count": 65,
   "metadata": {},
   "outputs": [
    {
     "data": {
      "image/png": "[encoded data removed]",
      "text/plain": [
       "<Figure size 864x432 with 1 Axes>"
      ]
     },
     "metadata": {
      "needs_background": "light"
     },
     "output_type": "display_data"
    }
   ],
   "source": [
    "# Plot Revenue\n",
    "customer.Revenue.sort_values().head(4200).plot.hist();\n",
    "plt.xlabel(\"Revenue in days\")\n",
    "plt.ylabel(\"Number of Customers\")\n",
    "plt.title(\"Revenue Histogram\");"
   ]
  },
  {
   "cell_type": "code",
   "execution_count": 66,
   "metadata": {},
   "outputs": [
    {
     "data": {
      "text/plain": [
       "Text(0, 0.5, 'Revenue')"
      ]
     },
     "execution_count": 66,
     "metadata": {},
     "output_type": "execute_result"
    },
    {
     "data": {
      "image/png": "[encoded data removed]",
      "text/plain": [
       "<Figure size 864x864 with 3 Axes>"
      ]
     },
     "metadata": {
      "needs_background": "light"
     },
     "output_type": "display_data"
    }
   ],
   "source": [
    "fig, (ax4, ax5, ax6) = plt.subplots(3)\n",
    "fig.suptitle('Histograms')\n",
    "customer.Recency.plot.hist(ax = ax4, figsize = (12,12));\n",
    "customer.Frequency.sort_values().head(4300).plot.hist(ax = ax5);\n",
    "customer.Revenue.sort_values().head(4200).plot.hist(ax = ax6);\n",
    "ax4.set_ylabel('Recency')\n",
    "ax5.set_ylabel('Frequency')\n",
    "ax6.set_ylabel('Revenue')"
   ]
  },
  {
   "cell_type": "markdown",
   "metadata": {},
   "source": [
    "## K-Means Clustering "
   ]
  },
  {
   "cell_type": "code",
   "execution_count": 67,
   "metadata": {},
   "outputs": [
    {
     "data": {
      "text/html": [
       "<div>\n",
       "<style scoped>\n",
       "    .dataframe tbody tr th:only-of-type {\n",
       "        vertical-align: middle;\n",
       "    }\n",
       "\n",
       "    .dataframe tbody tr th {\n",
       "        vertical-align: top;\n",
       "    }\n",
       "\n",
       "    .dataframe thead th {\n",
       "        text-align: right;\n",
       "    }\n",
       "</style>\n",
       "<table border=\"1\" class=\"dataframe\">\n",
       "  <thead>\n",
       "    <tr style=\"text-align: right;\">\n",
       "      <th></th>\n",
       "      <th>Recency</th>\n",
       "      <th>Frequency</th>\n",
       "      <th>Revenue</th>\n",
       "    </tr>\n",
       "  </thead>\n",
       "  <tbody>\n",
       "    <tr>\n",
       "      <th>0</th>\n",
       "      <td>301</td>\n",
       "      <td>312</td>\n",
       "      <td>5288.63</td>\n",
       "    </tr>\n",
       "    <tr>\n",
       "      <th>1</th>\n",
       "      <td>31</td>\n",
       "      <td>196</td>\n",
       "      <td>3079.10</td>\n",
       "    </tr>\n",
       "    <tr>\n",
       "      <th>2</th>\n",
       "      <td>2</td>\n",
       "      <td>251</td>\n",
       "      <td>7187.34</td>\n",
       "    </tr>\n",
       "    <tr>\n",
       "      <th>3</th>\n",
       "      <td>95</td>\n",
       "      <td>28</td>\n",
       "      <td>948.25</td>\n",
       "    </tr>\n",
       "    <tr>\n",
       "      <th>4</th>\n",
       "      <td>329</td>\n",
       "      <td>6</td>\n",
       "      <td>635.10</td>\n",
       "    </tr>\n",
       "  </tbody>\n",
       "</table>\n",
       "</div>"
      ],
      "text/plain": [
       "   Recency  Frequency  Revenue\n",
       "0      301        312  5288.63\n",
       "1       31        196  3079.10\n",
       "2        2        251  7187.34\n",
       "3       95         28   948.25\n",
       "4      329          6   635.10"
      ]
     },
     "execution_count": 67,
     "metadata": {},
     "output_type": "execute_result"
    }
   ],
   "source": [
    "# Creating input features variable\n",
    "X = customer.loc[:, 'Recency':'Revenue']\n",
    "X.head()"
   ]
  },
  {
   "cell_type": "code",
   "execution_count": 68,
   "metadata": {},
   "outputs": [
    {
     "data": {
      "text/html": [
       "<div>\n",
       "<style scoped>\n",
       "    .dataframe tbody tr th:only-of-type {\n",
       "        vertical-align: middle;\n",
       "    }\n",
       "\n",
       "    .dataframe tbody tr th {\n",
       "        vertical-align: top;\n",
       "    }\n",
       "\n",
       "    .dataframe thead th {\n",
       "        text-align: right;\n",
       "    }\n",
       "</style>\n",
       "<table border=\"1\" class=\"dataframe\">\n",
       "  <thead>\n",
       "    <tr style=\"text-align: right;\">\n",
       "      <th></th>\n",
       "      <th>Recency</th>\n",
       "      <th>Frequency</th>\n",
       "      <th>Revenue</th>\n",
       "    </tr>\n",
       "  </thead>\n",
       "  <tbody>\n",
       "    <tr>\n",
       "      <th>0</th>\n",
       "      <td>301</td>\n",
       "      <td>312</td>\n",
       "      <td>5288.63</td>\n",
       "    </tr>\n",
       "    <tr>\n",
       "      <th>1</th>\n",
       "      <td>31</td>\n",
       "      <td>196</td>\n",
       "      <td>3079.10</td>\n",
       "    </tr>\n",
       "    <tr>\n",
       "      <th>2</th>\n",
       "      <td>2</td>\n",
       "      <td>251</td>\n",
       "      <td>7187.34</td>\n",
       "    </tr>\n",
       "    <tr>\n",
       "      <th>3</th>\n",
       "      <td>95</td>\n",
       "      <td>28</td>\n",
       "      <td>948.25</td>\n",
       "    </tr>\n",
       "    <tr>\n",
       "      <th>4</th>\n",
       "      <td>329</td>\n",
       "      <td>6</td>\n",
       "      <td>635.10</td>\n",
       "    </tr>\n",
       "    <tr>\n",
       "      <th>...</th>\n",
       "      <td>...</td>\n",
       "      <td>...</td>\n",
       "      <td>...</td>\n",
       "    </tr>\n",
       "    <tr>\n",
       "      <th>4367</th>\n",
       "      <td>1</td>\n",
       "      <td>12</td>\n",
       "      <td>196.89</td>\n",
       "    </tr>\n",
       "    <tr>\n",
       "      <th>4368</th>\n",
       "      <td>1</td>\n",
       "      <td>18</td>\n",
       "      <td>343.50</td>\n",
       "    </tr>\n",
       "    <tr>\n",
       "      <th>4369</th>\n",
       "      <td>0</td>\n",
       "      <td>2</td>\n",
       "      <td>360.00</td>\n",
       "    </tr>\n",
       "    <tr>\n",
       "      <th>4370</th>\n",
       "      <td>0</td>\n",
       "      <td>12</td>\n",
       "      <td>227.39</td>\n",
       "    </tr>\n",
       "    <tr>\n",
       "      <th>4371</th>\n",
       "      <td>0</td>\n",
       "      <td>38</td>\n",
       "      <td>848.55</td>\n",
       "    </tr>\n",
       "  </tbody>\n",
       "</table>\n",
       "<p>4372 rows × 3 columns</p>\n",
       "</div>"
      ],
      "text/plain": [
       "      Recency  Frequency  Revenue\n",
       "0         301        312  5288.63\n",
       "1          31        196  3079.10\n",
       "2           2        251  7187.34\n",
       "3          95         28   948.25\n",
       "4         329          6   635.10\n",
       "...       ...        ...      ...\n",
       "4367        1         12   196.89\n",
       "4368        1         18   343.50\n",
       "4369        0          2   360.00\n",
       "4370        0         12   227.39\n",
       "4371        0         38   848.55\n",
       "\n",
       "[4372 rows x 3 columns]"
      ]
     },
     "execution_count": 68,
     "metadata": {},
     "output_type": "execute_result"
    }
   ],
   "source": [
    "X"
   ]
  },
  {
   "cell_type": "code",
   "execution_count": 69,
   "metadata": {},
   "outputs": [],
   "source": [
    "# Number of clusters (Configurable) - Initially we're attempting based on the 3 Segments (Low, Mid, High)\n",
    "k=3"
   ]
  },
  {
   "cell_type": "code",
   "execution_count": 70,
   "metadata": {},
   "outputs": [],
   "source": [
    "# Scaling input using StandardScaler\n",
    "from sklearn.preprocessing import StandardScaler\n",
    "scaler = StandardScaler()\n",
    "Xstd = pd.DataFrame(scaler.fit_transform(X), columns=X.columns)"
   ]
  },
  {
   "cell_type": "code",
   "execution_count": 71,
   "metadata": {},
   "outputs": [
    {
     "data": {
      "text/html": [
       "<div>\n",
       "<style scoped>\n",
       "    .dataframe tbody tr th:only-of-type {\n",
       "        vertical-align: middle;\n",
       "    }\n",
       "\n",
       "    .dataframe tbody tr th {\n",
       "        vertical-align: top;\n",
       "    }\n",
       "\n",
       "    .dataframe thead th {\n",
       "        text-align: right;\n",
       "    }\n",
       "</style>\n",
       "<table border=\"1\" class=\"dataframe\">\n",
       "  <thead>\n",
       "    <tr style=\"text-align: right;\">\n",
       "      <th></th>\n",
       "      <th>Recency</th>\n",
       "      <th>Frequency</th>\n",
       "      <th>Revenue</th>\n",
       "    </tr>\n",
       "  </thead>\n",
       "  <tbody>\n",
       "    <tr>\n",
       "      <th>0</th>\n",
       "      <td>2.083819</td>\n",
       "      <td>0.941929</td>\n",
       "      <td>0.412510</td>\n",
       "    </tr>\n",
       "    <tr>\n",
       "      <th>1</th>\n",
       "      <td>-0.595978</td>\n",
       "      <td>0.442886</td>\n",
       "      <td>0.143658</td>\n",
       "    </tr>\n",
       "    <tr>\n",
       "      <th>2</th>\n",
       "      <td>-0.883808</td>\n",
       "      <td>0.679501</td>\n",
       "      <td>0.643541</td>\n",
       "    </tr>\n",
       "    <tr>\n",
       "      <th>3</th>\n",
       "      <td>0.039233</td>\n",
       "      <td>-0.279865</td>\n",
       "      <td>-0.115620</td>\n",
       "    </tr>\n",
       "    <tr>\n",
       "      <th>4</th>\n",
       "      <td>2.361724</td>\n",
       "      <td>-0.374511</td>\n",
       "      <td>-0.153723</td>\n",
       "    </tr>\n",
       "    <tr>\n",
       "      <th>...</th>\n",
       "      <td>...</td>\n",
       "      <td>...</td>\n",
       "      <td>...</td>\n",
       "    </tr>\n",
       "    <tr>\n",
       "      <th>4367</th>\n",
       "      <td>-0.893733</td>\n",
       "      <td>-0.348699</td>\n",
       "      <td>-0.207044</td>\n",
       "    </tr>\n",
       "    <tr>\n",
       "      <th>4368</th>\n",
       "      <td>-0.893733</td>\n",
       "      <td>-0.322886</td>\n",
       "      <td>-0.189205</td>\n",
       "    </tr>\n",
       "    <tr>\n",
       "      <th>4369</th>\n",
       "      <td>-0.903658</td>\n",
       "      <td>-0.391720</td>\n",
       "      <td>-0.187197</td>\n",
       "    </tr>\n",
       "    <tr>\n",
       "      <th>4370</th>\n",
       "      <td>-0.903658</td>\n",
       "      <td>-0.348699</td>\n",
       "      <td>-0.203333</td>\n",
       "    </tr>\n",
       "    <tr>\n",
       "      <th>4371</th>\n",
       "      <td>-0.903658</td>\n",
       "      <td>-0.236844</td>\n",
       "      <td>-0.127751</td>\n",
       "    </tr>\n",
       "  </tbody>\n",
       "</table>\n",
       "<p>4372 rows × 3 columns</p>\n",
       "</div>"
      ],
      "text/plain": [
       "       Recency  Frequency   Revenue\n",
       "0     2.083819   0.941929  0.412510\n",
       "1    -0.595978   0.442886  0.143658\n",
       "2    -0.883808   0.679501  0.643541\n",
       "3     0.039233  -0.279865 -0.115620\n",
       "4     2.361724  -0.374511 -0.153723\n",
       "...        ...        ...       ...\n",
       "4367 -0.893733  -0.348699 -0.207044\n",
       "4368 -0.893733  -0.322886 -0.189205\n",
       "4369 -0.903658  -0.391720 -0.187197\n",
       "4370 -0.903658  -0.348699 -0.203333\n",
       "4371 -0.903658  -0.236844 -0.127751\n",
       "\n",
       "[4372 rows x 3 columns]"
      ]
     },
     "execution_count": 71,
     "metadata": {},
     "output_type": "execute_result"
    }
   ],
   "source": [
    "Xstd"
   ]
  },
  {
   "cell_type": "code",
   "execution_count": 72,
   "metadata": {},
   "outputs": [
    {
     "data": {
      "text/plain": [
       "KMeans(n_clusters=3, random_state=0)"
      ]
     },
     "execution_count": 72,
     "metadata": {},
     "output_type": "execute_result"
    }
   ],
   "source": [
    "# Run and train main K-means algorithm based on all input features\n",
    "from sklearn.cluster import KMeans\n",
    "rfc = KMeans(n_clusters=k, random_state=0)\n",
    "rfc.fit(Xstd)"
   ]
  },
  {
   "cell_type": "code",
   "execution_count": 73,
   "metadata": {},
   "outputs": [
    {
     "name": "stdout",
     "output_type": "stream",
     "text": [
      "Assigned cluster labels: \n",
      " [0 1 1 ... 1 1 1]\n"
     ]
    }
   ],
   "source": [
    "# Review output cluster labels\n",
    "cluster_labels = rfc.labels_\n",
    "print(\"Assigned cluster labels: \\n\", cluster_labels)"
   ]
  },
  {
   "cell_type": "code",
   "execution_count": 74,
   "metadata": {},
   "outputs": [
    {
     "name": "stdout",
     "output_type": "stream",
     "text": [
      "Location of centroids: \n",
      "[[ 1.53076400e+00 -2.80810509e-01 -1.74427230e-01]\n",
      " [-5.17104330e-01  5.17752777e-02  6.86884206e-03]\n",
      " [-8.63957712e-01  1.18416391e+01  1.42137753e+01]]\n"
     ]
    }
   ],
   "source": [
    "# Review Centroids of clusters\n",
    "centroids = rfc.cluster_centers_\n",
    "print(\"Location of centroids: \")\n",
    "print(centroids)"
   ]
  },
  {
   "cell_type": "code",
   "execution_count": 75,
   "metadata": {},
   "outputs": [
    {
     "data": {
      "text/html": [
       "<div>\n",
       "<style scoped>\n",
       "    .dataframe tbody tr th:only-of-type {\n",
       "        vertical-align: middle;\n",
       "    }\n",
       "\n",
       "    .dataframe tbody tr th {\n",
       "        vertical-align: top;\n",
       "    }\n",
       "\n",
       "    .dataframe thead th {\n",
       "        text-align: right;\n",
       "    }\n",
       "</style>\n",
       "<table border=\"1\" class=\"dataframe\">\n",
       "  <thead>\n",
       "    <tr style=\"text-align: right;\">\n",
       "      <th></th>\n",
       "      <th>Recency</th>\n",
       "      <th>Frequency</th>\n",
       "      <th>Revenue</th>\n",
       "      <th>clusters</th>\n",
       "    </tr>\n",
       "  </thead>\n",
       "  <tbody>\n",
       "    <tr>\n",
       "      <th>0</th>\n",
       "      <td>2.083819</td>\n",
       "      <td>0.941929</td>\n",
       "      <td>0.412510</td>\n",
       "      <td>0</td>\n",
       "    </tr>\n",
       "    <tr>\n",
       "      <th>1</th>\n",
       "      <td>-0.595978</td>\n",
       "      <td>0.442886</td>\n",
       "      <td>0.143658</td>\n",
       "      <td>1</td>\n",
       "    </tr>\n",
       "    <tr>\n",
       "      <th>2</th>\n",
       "      <td>-0.883808</td>\n",
       "      <td>0.679501</td>\n",
       "      <td>0.643541</td>\n",
       "      <td>1</td>\n",
       "    </tr>\n",
       "    <tr>\n",
       "      <th>3</th>\n",
       "      <td>0.039233</td>\n",
       "      <td>-0.279865</td>\n",
       "      <td>-0.115620</td>\n",
       "      <td>1</td>\n",
       "    </tr>\n",
       "    <tr>\n",
       "      <th>4</th>\n",
       "      <td>2.361724</td>\n",
       "      <td>-0.374511</td>\n",
       "      <td>-0.153723</td>\n",
       "      <td>0</td>\n",
       "    </tr>\n",
       "  </tbody>\n",
       "</table>\n",
       "</div>"
      ],
      "text/plain": [
       "    Recency  Frequency   Revenue  clusters\n",
       "0  2.083819   0.941929  0.412510         0\n",
       "1 -0.595978   0.442886  0.143658         1\n",
       "2 -0.883808   0.679501  0.643541         1\n",
       "3  0.039233  -0.279865 -0.115620         1\n",
       "4  2.361724  -0.374511 -0.153723         0"
      ]
     },
     "execution_count": 75,
     "metadata": {},
     "output_type": "execute_result"
    }
   ],
   "source": [
    "# Append clusters to input features table\n",
    "Xstd['clusters'] = cluster_labels\n",
    "Xstd.head()"
   ]
  },
  {
   "cell_type": "markdown",
   "metadata": {},
   "source": [
    "### Evaluation Metrics - Silhouette and Inertia scores"
   ]
  },
  {
   "cell_type": "code",
   "execution_count": 76,
   "metadata": {},
   "outputs": [
    {
     "data": {
      "text/plain": [
       "0.6498453574598603"
      ]
     },
     "execution_count": 76,
     "metadata": {},
     "output_type": "execute_result"
    }
   ],
   "source": [
    "from sklearn import metrics\n",
    "metrics.silhouette_score(Xstd, cluster_labels, metric='euclidean')"
   ]
  },
  {
   "cell_type": "code",
   "execution_count": 77,
   "metadata": {},
   "outputs": [
    {
     "data": {
      "text/plain": [
       "5408.474380238328"
      ]
     },
     "execution_count": 77,
     "metadata": {},
     "output_type": "execute_result"
    }
   ],
   "source": [
    "rfc.inertia_"
   ]
  },
  {
   "cell_type": "code",
   "execution_count": 78,
   "metadata": {},
   "outputs": [],
   "source": [
    "##%pip install scikitplot"
   ]
  },
  {
   "cell_type": "code",
   "execution_count": 79,
   "metadata": {},
   "outputs": [],
   "source": [
    "Xstd1=Xstd.drop(['clusters'],axis=1)"
   ]
  },
  {
   "cell_type": "code",
   "execution_count": 80,
   "metadata": {},
   "outputs": [
    {
     "data": {
      "text/html": [
       "<div>\n",
       "<style scoped>\n",
       "    .dataframe tbody tr th:only-of-type {\n",
       "        vertical-align: middle;\n",
       "    }\n",
       "\n",
       "    .dataframe tbody tr th {\n",
       "        vertical-align: top;\n",
       "    }\n",
       "\n",
       "    .dataframe thead th {\n",
       "        text-align: right;\n",
       "    }\n",
       "</style>\n",
       "<table border=\"1\" class=\"dataframe\">\n",
       "  <thead>\n",
       "    <tr style=\"text-align: right;\">\n",
       "      <th></th>\n",
       "      <th>Recency</th>\n",
       "      <th>Frequency</th>\n",
       "      <th>Revenue</th>\n",
       "    </tr>\n",
       "  </thead>\n",
       "  <tbody>\n",
       "    <tr>\n",
       "      <th>0</th>\n",
       "      <td>2.083819</td>\n",
       "      <td>0.941929</td>\n",
       "      <td>0.412510</td>\n",
       "    </tr>\n",
       "    <tr>\n",
       "      <th>1</th>\n",
       "      <td>-0.595978</td>\n",
       "      <td>0.442886</td>\n",
       "      <td>0.143658</td>\n",
       "    </tr>\n",
       "    <tr>\n",
       "      <th>2</th>\n",
       "      <td>-0.883808</td>\n",
       "      <td>0.679501</td>\n",
       "      <td>0.643541</td>\n",
       "    </tr>\n",
       "    <tr>\n",
       "      <th>3</th>\n",
       "      <td>0.039233</td>\n",
       "      <td>-0.279865</td>\n",
       "      <td>-0.115620</td>\n",
       "    </tr>\n",
       "    <tr>\n",
       "      <th>4</th>\n",
       "      <td>2.361724</td>\n",
       "      <td>-0.374511</td>\n",
       "      <td>-0.153723</td>\n",
       "    </tr>\n",
       "    <tr>\n",
       "      <th>...</th>\n",
       "      <td>...</td>\n",
       "      <td>...</td>\n",
       "      <td>...</td>\n",
       "    </tr>\n",
       "    <tr>\n",
       "      <th>4367</th>\n",
       "      <td>-0.893733</td>\n",
       "      <td>-0.348699</td>\n",
       "      <td>-0.207044</td>\n",
       "    </tr>\n",
       "    <tr>\n",
       "      <th>4368</th>\n",
       "      <td>-0.893733</td>\n",
       "      <td>-0.322886</td>\n",
       "      <td>-0.189205</td>\n",
       "    </tr>\n",
       "    <tr>\n",
       "      <th>4369</th>\n",
       "      <td>-0.903658</td>\n",
       "      <td>-0.391720</td>\n",
       "      <td>-0.187197</td>\n",
       "    </tr>\n",
       "    <tr>\n",
       "      <th>4370</th>\n",
       "      <td>-0.903658</td>\n",
       "      <td>-0.348699</td>\n",
       "      <td>-0.203333</td>\n",
       "    </tr>\n",
       "    <tr>\n",
       "      <th>4371</th>\n",
       "      <td>-0.903658</td>\n",
       "      <td>-0.236844</td>\n",
       "      <td>-0.127751</td>\n",
       "    </tr>\n",
       "  </tbody>\n",
       "</table>\n",
       "<p>4372 rows × 3 columns</p>\n",
       "</div>"
      ],
      "text/plain": [
       "       Recency  Frequency   Revenue\n",
       "0     2.083819   0.941929  0.412510\n",
       "1    -0.595978   0.442886  0.143658\n",
       "2    -0.883808   0.679501  0.643541\n",
       "3     0.039233  -0.279865 -0.115620\n",
       "4     2.361724  -0.374511 -0.153723\n",
       "...        ...        ...       ...\n",
       "4367 -0.893733  -0.348699 -0.207044\n",
       "4368 -0.893733  -0.322886 -0.189205\n",
       "4369 -0.903658  -0.391720 -0.187197\n",
       "4370 -0.903658  -0.348699 -0.203333\n",
       "4371 -0.903658  -0.236844 -0.127751\n",
       "\n",
       "[4372 rows x 3 columns]"
      ]
     },
     "execution_count": 80,
     "metadata": {},
     "output_type": "execute_result"
    }
   ],
   "source": [
    "Xstd1"
   ]
  },
  {
   "cell_type": "markdown",
   "metadata": {},
   "source": [
    "### K-Means optimization "
   ]
  },
  {
   "cell_type": "code",
   "execution_count": 81,
   "metadata": {},
   "outputs": [],
   "source": [
    "inertias = []\n",
    "ss = []\n",
    "\n",
    "for k in range(2,11):\n",
    "    \n",
    "    kmeans = KMeans(n_clusters=k, init='k-means++', max_iter=300, n_init=10, random_state=42)\n",
    "    kmeans.fit(Xstd1)\n",
    "    inertias.append(kmeans.inertia_)\n",
    "    ss.append(metrics.silhouette_score(Xstd, kmeans.labels_, metric='euclidean'))\n"
   ]
  },
  {
   "cell_type": "code",
   "execution_count": 82,
   "metadata": {},
   "outputs": [
    {
     "data": {
      "image/png": "[encoded data removed]",
      "text/plain": [
       "<Figure size 864x432 with 1 Axes>"
      ]
     },
     "metadata": {
      "needs_background": "light"
     },
     "output_type": "display_data"
    }
   ],
   "source": [
    "plt.plot(range(2, 11), inertias)\n",
    "plt.title('Choosing the number of clusters')\n",
    "plt.xlabel('Number of clusters')\n",
    "plt.ylabel('Inertia')\n",
    "plt.show()"
   ]
  },
  {
   "cell_type": "code",
   "execution_count": 83,
   "metadata": {},
   "outputs": [
    {
     "data": {
      "text/plain": [
       "1296.6431189954828"
      ]
     },
     "execution_count": 83,
     "metadata": {},
     "output_type": "execute_result"
    }
   ],
   "source": [
    "# Based on Inertia graph the optimal K is 8 with the following Inertia value\n",
    "min(inertias)"
   ]
  },
  {
   "cell_type": "code",
   "execution_count": 84,
   "metadata": {},
   "outputs": [
    {
     "data": {
      "image/png": "[encoded data removed]",
      "text/plain": [
       "<Figure size 864x432 with 1 Axes>"
      ]
     },
     "metadata": {
      "needs_background": "light"
     },
     "output_type": "display_data"
    }
   ],
   "source": [
    "plt.plot(range(2, 11), ss)\n",
    "plt.title('Choosing the number of clusters')\n",
    "plt.xlabel('Number of clusters')\n",
    "plt.ylabel('Silhouette Score')\n",
    "plt.show()"
   ]
  },
  {
   "cell_type": "markdown",
   "metadata": {},
   "source": [
    "### Customer Dataframe and Visualization"
   ]
  },
  {
   "cell_type": "code",
   "execution_count": 85,
   "metadata": {},
   "outputs": [
    {
     "data": {
      "text/plain": [
       "array([0, 1, 2])"
      ]
     },
     "execution_count": 85,
     "metadata": {},
     "output_type": "execute_result"
    }
   ],
   "source": [
    "customer['Cluster'] = cluster_labels\n",
    "customer.Cluster.unique()"
   ]
  },
  {
   "cell_type": "code",
   "execution_count": 86,
   "metadata": {},
   "outputs": [],
   "source": [
    "customer['Profile'] = cluster_labels\n",
    "customer['Profile'].replace({0: \"Low Value\", 1: \"Mid Value\", 2: \"High Value\"}, inplace = True)"
   ]
  },
  {
   "cell_type": "code",
   "execution_count": 87,
   "metadata": {},
   "outputs": [
    {
     "data": {
      "text/html": [
       "<div>\n",
       "<style scoped>\n",
       "    .dataframe tbody tr th:only-of-type {\n",
       "        vertical-align: middle;\n",
       "    }\n",
       "\n",
       "    .dataframe tbody tr th {\n",
       "        vertical-align: top;\n",
       "    }\n",
       "\n",
       "    .dataframe thead th {\n",
       "        text-align: right;\n",
       "    }\n",
       "</style>\n",
       "<table border=\"1\" class=\"dataframe\">\n",
       "  <thead>\n",
       "    <tr style=\"text-align: right;\">\n",
       "      <th></th>\n",
       "      <th>CustomerID</th>\n",
       "      <th>Recency</th>\n",
       "      <th>Frequency</th>\n",
       "      <th>Revenue</th>\n",
       "      <th>Cluster</th>\n",
       "      <th>Profile</th>\n",
       "    </tr>\n",
       "  </thead>\n",
       "  <tbody>\n",
       "    <tr>\n",
       "      <th>0</th>\n",
       "      <td>17850.0</td>\n",
       "      <td>301</td>\n",
       "      <td>312</td>\n",
       "      <td>5288.63</td>\n",
       "      <td>0</td>\n",
       "      <td>Low Value</td>\n",
       "    </tr>\n",
       "    <tr>\n",
       "      <th>1</th>\n",
       "      <td>13047.0</td>\n",
       "      <td>31</td>\n",
       "      <td>196</td>\n",
       "      <td>3079.10</td>\n",
       "      <td>1</td>\n",
       "      <td>Mid Value</td>\n",
       "    </tr>\n",
       "    <tr>\n",
       "      <th>2</th>\n",
       "      <td>12583.0</td>\n",
       "      <td>2</td>\n",
       "      <td>251</td>\n",
       "      <td>7187.34</td>\n",
       "      <td>1</td>\n",
       "      <td>Mid Value</td>\n",
       "    </tr>\n",
       "    <tr>\n",
       "      <th>3</th>\n",
       "      <td>13748.0</td>\n",
       "      <td>95</td>\n",
       "      <td>28</td>\n",
       "      <td>948.25</td>\n",
       "      <td>1</td>\n",
       "      <td>Mid Value</td>\n",
       "    </tr>\n",
       "    <tr>\n",
       "      <th>4</th>\n",
       "      <td>15100.0</td>\n",
       "      <td>329</td>\n",
       "      <td>6</td>\n",
       "      <td>635.10</td>\n",
       "      <td>0</td>\n",
       "      <td>Low Value</td>\n",
       "    </tr>\n",
       "    <tr>\n",
       "      <th>5</th>\n",
       "      <td>15291.0</td>\n",
       "      <td>25</td>\n",
       "      <td>109</td>\n",
       "      <td>4596.51</td>\n",
       "      <td>1</td>\n",
       "      <td>Mid Value</td>\n",
       "    </tr>\n",
       "    <tr>\n",
       "      <th>6</th>\n",
       "      <td>14688.0</td>\n",
       "      <td>7</td>\n",
       "      <td>359</td>\n",
       "      <td>5107.38</td>\n",
       "      <td>1</td>\n",
       "      <td>Mid Value</td>\n",
       "    </tr>\n",
       "    <tr>\n",
       "      <th>7</th>\n",
       "      <td>17809.0</td>\n",
       "      <td>15</td>\n",
       "      <td>64</td>\n",
       "      <td>4627.62</td>\n",
       "      <td>1</td>\n",
       "      <td>Mid Value</td>\n",
       "    </tr>\n",
       "    <tr>\n",
       "      <th>8</th>\n",
       "      <td>15311.0</td>\n",
       "      <td>0</td>\n",
       "      <td>2491</td>\n",
       "      <td>59419.34</td>\n",
       "      <td>2</td>\n",
       "      <td>High Value</td>\n",
       "    </tr>\n",
       "    <tr>\n",
       "      <th>9</th>\n",
       "      <td>14527.0</td>\n",
       "      <td>2</td>\n",
       "      <td>1011</td>\n",
       "      <td>7711.38</td>\n",
       "      <td>1</td>\n",
       "      <td>Mid Value</td>\n",
       "    </tr>\n",
       "    <tr>\n",
       "      <th>10</th>\n",
       "      <td>16098.0</td>\n",
       "      <td>87</td>\n",
       "      <td>67</td>\n",
       "      <td>2005.63</td>\n",
       "      <td>1</td>\n",
       "      <td>Mid Value</td>\n",
       "    </tr>\n",
       "    <tr>\n",
       "      <th>11</th>\n",
       "      <td>18074.0</td>\n",
       "      <td>373</td>\n",
       "      <td>13</td>\n",
       "      <td>489.60</td>\n",
       "      <td>0</td>\n",
       "      <td>Low Value</td>\n",
       "    </tr>\n",
       "    <tr>\n",
       "      <th>12</th>\n",
       "      <td>17420.0</td>\n",
       "      <td>49</td>\n",
       "      <td>30</td>\n",
       "      <td>598.83</td>\n",
       "      <td>1</td>\n",
       "      <td>Mid Value</td>\n",
       "    </tr>\n",
       "    <tr>\n",
       "      <th>13</th>\n",
       "      <td>16029.0</td>\n",
       "      <td>38</td>\n",
       "      <td>274</td>\n",
       "      <td>50992.61</td>\n",
       "      <td>1</td>\n",
       "      <td>Mid Value</td>\n",
       "    </tr>\n",
       "    <tr>\n",
       "      <th>14</th>\n",
       "      <td>16250.0</td>\n",
       "      <td>260</td>\n",
       "      <td>24</td>\n",
       "      <td>389.44</td>\n",
       "      <td>0</td>\n",
       "      <td>Low Value</td>\n",
       "    </tr>\n",
       "    <tr>\n",
       "      <th>15</th>\n",
       "      <td>12431.0</td>\n",
       "      <td>35</td>\n",
       "      <td>240</td>\n",
       "      <td>6416.39</td>\n",
       "      <td>1</td>\n",
       "      <td>Mid Value</td>\n",
       "    </tr>\n",
       "    <tr>\n",
       "      <th>16</th>\n",
       "      <td>17511.0</td>\n",
       "      <td>2</td>\n",
       "      <td>1076</td>\n",
       "      <td>88125.38</td>\n",
       "      <td>2</td>\n",
       "      <td>High Value</td>\n",
       "    </tr>\n",
       "    <tr>\n",
       "      <th>17</th>\n",
       "      <td>17548.0</td>\n",
       "      <td>217</td>\n",
       "      <td>17</td>\n",
       "      <td>-141.48</td>\n",
       "      <td>0</td>\n",
       "      <td>Low Value</td>\n",
       "    </tr>\n",
       "    <tr>\n",
       "      <th>18</th>\n",
       "      <td>13705.0</td>\n",
       "      <td>7</td>\n",
       "      <td>28</td>\n",
       "      <td>711.86</td>\n",
       "      <td>1</td>\n",
       "      <td>Mid Value</td>\n",
       "    </tr>\n",
       "    <tr>\n",
       "      <th>19</th>\n",
       "      <td>13747.0</td>\n",
       "      <td>373</td>\n",
       "      <td>1</td>\n",
       "      <td>79.60</td>\n",
       "      <td>0</td>\n",
       "      <td>Low Value</td>\n",
       "    </tr>\n",
       "    <tr>\n",
       "      <th>20</th>\n",
       "      <td>13408.0</td>\n",
       "      <td>1</td>\n",
       "      <td>501</td>\n",
       "      <td>27487.41</td>\n",
       "      <td>1</td>\n",
       "      <td>Mid Value</td>\n",
       "    </tr>\n",
       "    <tr>\n",
       "      <th>21</th>\n",
       "      <td>13767.0</td>\n",
       "      <td>1</td>\n",
       "      <td>399</td>\n",
       "      <td>16945.71</td>\n",
       "      <td>1</td>\n",
       "      <td>Mid Value</td>\n",
       "    </tr>\n",
       "    <tr>\n",
       "      <th>22</th>\n",
       "      <td>17924.0</td>\n",
       "      <td>0</td>\n",
       "      <td>38</td>\n",
       "      <td>2894.33</td>\n",
       "      <td>1</td>\n",
       "      <td>Mid Value</td>\n",
       "    </tr>\n",
       "    <tr>\n",
       "      <th>23</th>\n",
       "      <td>13448.0</td>\n",
       "      <td>16</td>\n",
       "      <td>199</td>\n",
       "      <td>3465.67</td>\n",
       "      <td>1</td>\n",
       "      <td>Mid Value</td>\n",
       "    </tr>\n",
       "    <tr>\n",
       "      <th>24</th>\n",
       "      <td>15862.0</td>\n",
       "      <td>7</td>\n",
       "      <td>147</td>\n",
       "      <td>832.88</td>\n",
       "      <td>1</td>\n",
       "      <td>Mid Value</td>\n",
       "    </tr>\n",
       "    <tr>\n",
       "      <th>25</th>\n",
       "      <td>15513.0</td>\n",
       "      <td>30</td>\n",
       "      <td>314</td>\n",
       "      <td>14520.08</td>\n",
       "      <td>1</td>\n",
       "      <td>Mid Value</td>\n",
       "    </tr>\n",
       "    <tr>\n",
       "      <th>26</th>\n",
       "      <td>12791.0</td>\n",
       "      <td>373</td>\n",
       "      <td>2</td>\n",
       "      <td>192.60</td>\n",
       "      <td>0</td>\n",
       "      <td>Low Value</td>\n",
       "    </tr>\n",
       "    <tr>\n",
       "      <th>27</th>\n",
       "      <td>16218.0</td>\n",
       "      <td>29</td>\n",
       "      <td>90</td>\n",
       "      <td>3054.87</td>\n",
       "      <td>1</td>\n",
       "      <td>Mid Value</td>\n",
       "    </tr>\n",
       "    <tr>\n",
       "      <th>28</th>\n",
       "      <td>14045.0</td>\n",
       "      <td>108</td>\n",
       "      <td>6</td>\n",
       "      <td>1659.75</td>\n",
       "      <td>1</td>\n",
       "      <td>Mid Value</td>\n",
       "    </tr>\n",
       "    <tr>\n",
       "      <th>29</th>\n",
       "      <td>14307.0</td>\n",
       "      <td>88</td>\n",
       "      <td>180</td>\n",
       "      <td>2995.72</td>\n",
       "      <td>1</td>\n",
       "      <td>Mid Value</td>\n",
       "    </tr>\n",
       "    <tr>\n",
       "      <th>30</th>\n",
       "      <td>17908.0</td>\n",
       "      <td>373</td>\n",
       "      <td>58</td>\n",
       "      <td>243.28</td>\n",
       "      <td>0</td>\n",
       "      <td>Low Value</td>\n",
       "    </tr>\n",
       "    <tr>\n",
       "      <th>31</th>\n",
       "      <td>17920.0</td>\n",
       "      <td>3</td>\n",
       "      <td>696</td>\n",
       "      <td>4204.10</td>\n",
       "      <td>1</td>\n",
       "      <td>Mid Value</td>\n",
       "    </tr>\n",
       "    <tr>\n",
       "      <th>32</th>\n",
       "      <td>12838.0</td>\n",
       "      <td>33</td>\n",
       "      <td>123</td>\n",
       "      <td>683.13</td>\n",
       "      <td>1</td>\n",
       "      <td>Mid Value</td>\n",
       "    </tr>\n",
       "    <tr>\n",
       "      <th>33</th>\n",
       "      <td>13255.0</td>\n",
       "      <td>3</td>\n",
       "      <td>14</td>\n",
       "      <td>390.66</td>\n",
       "      <td>1</td>\n",
       "      <td>Mid Value</td>\n",
       "    </tr>\n",
       "    <tr>\n",
       "      <th>34</th>\n",
       "      <td>16583.0</td>\n",
       "      <td>373</td>\n",
       "      <td>14</td>\n",
       "      <td>233.45</td>\n",
       "      <td>0</td>\n",
       "      <td>Low Value</td>\n",
       "    </tr>\n",
       "    <tr>\n",
       "      <th>35</th>\n",
       "      <td>18085.0</td>\n",
       "      <td>329</td>\n",
       "      <td>29</td>\n",
       "      <td>689.95</td>\n",
       "      <td>0</td>\n",
       "      <td>Low Value</td>\n",
       "    </tr>\n",
       "    <tr>\n",
       "      <th>36</th>\n",
       "      <td>13758.0</td>\n",
       "      <td>11</td>\n",
       "      <td>117</td>\n",
       "      <td>3190.55</td>\n",
       "      <td>1</td>\n",
       "      <td>Mid Value</td>\n",
       "    </tr>\n",
       "    <tr>\n",
       "      <th>37</th>\n",
       "      <td>13694.0</td>\n",
       "      <td>3</td>\n",
       "      <td>585</td>\n",
       "      <td>62653.10</td>\n",
       "      <td>1</td>\n",
       "      <td>Mid Value</td>\n",
       "    </tr>\n",
       "    <tr>\n",
       "      <th>38</th>\n",
       "      <td>15983.0</td>\n",
       "      <td>21</td>\n",
       "      <td>113</td>\n",
       "      <td>1475.02</td>\n",
       "      <td>1</td>\n",
       "      <td>Mid Value</td>\n",
       "    </tr>\n",
       "    <tr>\n",
       "      <th>39</th>\n",
       "      <td>14849.0</td>\n",
       "      <td>21</td>\n",
       "      <td>392</td>\n",
       "      <td>7904.28</td>\n",
       "      <td>1</td>\n",
       "      <td>Mid Value</td>\n",
       "    </tr>\n",
       "    <tr>\n",
       "      <th>40</th>\n",
       "      <td>17968.0</td>\n",
       "      <td>373</td>\n",
       "      <td>85</td>\n",
       "      <td>277.35</td>\n",
       "      <td>0</td>\n",
       "      <td>Low Value</td>\n",
       "    </tr>\n",
       "    <tr>\n",
       "      <th>41</th>\n",
       "      <td>16210.0</td>\n",
       "      <td>1</td>\n",
       "      <td>123</td>\n",
       "      <td>21086.30</td>\n",
       "      <td>1</td>\n",
       "      <td>Mid Value</td>\n",
       "    </tr>\n",
       "    <tr>\n",
       "      <th>42</th>\n",
       "      <td>17897.0</td>\n",
       "      <td>172</td>\n",
       "      <td>115</td>\n",
       "      <td>541.10</td>\n",
       "      <td>0</td>\n",
       "      <td>Low Value</td>\n",
       "    </tr>\n",
       "    <tr>\n",
       "      <th>43</th>\n",
       "      <td>17377.0</td>\n",
       "      <td>23</td>\n",
       "      <td>419</td>\n",
       "      <td>3925.92</td>\n",
       "      <td>1</td>\n",
       "      <td>Mid Value</td>\n",
       "    </tr>\n",
       "    <tr>\n",
       "      <th>44</th>\n",
       "      <td>16552.0</td>\n",
       "      <td>242</td>\n",
       "      <td>17</td>\n",
       "      <td>379.73</td>\n",
       "      <td>0</td>\n",
       "      <td>Low Value</td>\n",
       "    </tr>\n",
       "    <tr>\n",
       "      <th>45</th>\n",
       "      <td>17181.0</td>\n",
       "      <td>56</td>\n",
       "      <td>23</td>\n",
       "      <td>239.92</td>\n",
       "      <td>1</td>\n",
       "      <td>Mid Value</td>\n",
       "    </tr>\n",
       "    <tr>\n",
       "      <th>46</th>\n",
       "      <td>17951.0</td>\n",
       "      <td>39</td>\n",
       "      <td>21</td>\n",
       "      <td>990.84</td>\n",
       "      <td>1</td>\n",
       "      <td>Mid Value</td>\n",
       "    </tr>\n",
       "    <tr>\n",
       "      <th>47</th>\n",
       "      <td>14729.0</td>\n",
       "      <td>373</td>\n",
       "      <td>71</td>\n",
       "      <td>313.49</td>\n",
       "      <td>0</td>\n",
       "      <td>Low Value</td>\n",
       "    </tr>\n",
       "    <tr>\n",
       "      <th>48</th>\n",
       "      <td>12748.0</td>\n",
       "      <td>0</td>\n",
       "      <td>4642</td>\n",
       "      <td>29072.10</td>\n",
       "      <td>2</td>\n",
       "      <td>High Value</td>\n",
       "    </tr>\n",
       "    <tr>\n",
       "      <th>49</th>\n",
       "      <td>15012.0</td>\n",
       "      <td>53</td>\n",
       "      <td>128</td>\n",
       "      <td>423.04</td>\n",
       "      <td>1</td>\n",
       "      <td>Mid Value</td>\n",
       "    </tr>\n",
       "  </tbody>\n",
       "</table>\n",
       "</div>"
      ],
      "text/plain": [
       "    CustomerID  Recency  Frequency   Revenue  Cluster     Profile\n",
       "0      17850.0      301        312   5288.63        0   Low Value\n",
       "1      13047.0       31        196   3079.10        1   Mid Value\n",
       "2      12583.0        2        251   7187.34        1   Mid Value\n",
       "3      13748.0       95         28    948.25        1   Mid Value\n",
       "4      15100.0      329          6    635.10        0   Low Value\n",
       "5      15291.0       25        109   4596.51        1   Mid Value\n",
       "6      14688.0        7        359   5107.38        1   Mid Value\n",
       "7      17809.0       15         64   4627.62        1   Mid Value\n",
       "8      15311.0        0       2491  59419.34        2  High Value\n",
       "9      14527.0        2       1011   7711.38        1   Mid Value\n",
       "10     16098.0       87         67   2005.63        1   Mid Value\n",
       "11     18074.0      373         13    489.60        0   Low Value\n",
       "12     17420.0       49         30    598.83        1   Mid Value\n",
       "13     16029.0       38        274  50992.61        1   Mid Value\n",
       "14     16250.0      260         24    389.44        0   Low Value\n",
       "15     12431.0       35        240   6416.39        1   Mid Value\n",
       "16     17511.0        2       1076  88125.38        2  High Value\n",
       "17     17548.0      217         17   -141.48        0   Low Value\n",
       "18     13705.0        7         28    711.86        1   Mid Value\n",
       "19     13747.0      373          1     79.60        0   Low Value\n",
       "20     13408.0        1        501  27487.41        1   Mid Value\n",
       "21     13767.0        1        399  16945.71        1   Mid Value\n",
       "22     17924.0        0         38   2894.33        1   Mid Value\n",
       "23     13448.0       16        199   3465.67        1   Mid Value\n",
       "24     15862.0        7        147    832.88        1   Mid Value\n",
       "25     15513.0       30        314  14520.08        1   Mid Value\n",
       "26     12791.0      373          2    192.60        0   Low Value\n",
       "27     16218.0       29         90   3054.87        1   Mid Value\n",
       "28     14045.0      108          6   1659.75        1   Mid Value\n",
       "29     14307.0       88        180   2995.72        1   Mid Value\n",
       "30     17908.0      373         58    243.28        0   Low Value\n",
       "31     17920.0        3        696   4204.10        1   Mid Value\n",
       "32     12838.0       33        123    683.13        1   Mid Value\n",
       "33     13255.0        3         14    390.66        1   Mid Value\n",
       "34     16583.0      373         14    233.45        0   Low Value\n",
       "35     18085.0      329         29    689.95        0   Low Value\n",
       "36     13758.0       11        117   3190.55        1   Mid Value\n",
       "37     13694.0        3        585  62653.10        1   Mid Value\n",
       "38     15983.0       21        113   1475.02        1   Mid Value\n",
       "39     14849.0       21        392   7904.28        1   Mid Value\n",
       "40     17968.0      373         85    277.35        0   Low Value\n",
       "41     16210.0        1        123  21086.30        1   Mid Value\n",
       "42     17897.0      172        115    541.10        0   Low Value\n",
       "43     17377.0       23        419   3925.92        1   Mid Value\n",
       "44     16552.0      242         17    379.73        0   Low Value\n",
       "45     17181.0       56         23    239.92        1   Mid Value\n",
       "46     17951.0       39         21    990.84        1   Mid Value\n",
       "47     14729.0      373         71    313.49        0   Low Value\n",
       "48     12748.0        0       4642  29072.10        2  High Value\n",
       "49     15012.0       53        128    423.04        1   Mid Value"
      ]
     },
     "execution_count": 87,
     "metadata": {},
     "output_type": "execute_result"
    }
   ],
   "source": [
    "customer.head(50)"
   ]
  },
  {
   "cell_type": "code",
   "execution_count": 88,
   "metadata": {},
   "outputs": [
    {
     "data": {
      "text/plain": [
       "count          4372\n",
       "unique            3\n",
       "top       Mid Value\n",
       "freq           3257\n",
       "Name: Profile, dtype: object"
      ]
     },
     "execution_count": 88,
     "metadata": {},
     "output_type": "execute_result"
    }
   ],
   "source": [
    "customer.Profile.describe(include=['O'])"
   ]
  },
  {
   "cell_type": "code",
   "execution_count": 89,
   "metadata": {},
   "outputs": [
    {
     "data": {
      "image/png": "[encoded data removed]",
      "text/plain": [
       "<Figure size 864x432 with 1 Axes>"
      ]
     },
     "metadata": {
      "needs_background": "light"
     },
     "output_type": "display_data"
    }
   ],
   "source": [
    "customer.groupby('Profile').Profile.count().plot.bar()\n",
    "plt.xlabel(\"Customer Segments\")\n",
    "plt.ylabel(\"Number of Customers\")\n",
    "plt.title(\"Segments Summary\");"
   ]
  },
  {
   "cell_type": "markdown",
   "metadata": {},
   "source": [
    "1.Recency:maximum number of months passed since the customer last purchase..\n",
    "\n",
    "2.Frequency:maximum no of purchase by customer in last 12 months\n",
    "\n",
    "3.Revenue: Total amount spent by customers(quantity*unitprice)"
   ]
  },
  {
   "cell_type": "markdown",
   "metadata": {},
   "source": [
    "After successfuly building model we find 3 segment of customers:\n",
    "\n",
    "1.Low Segment\n",
    "2.Mid Segment\n",
    "3.High Segment\n",
    "\n",
    "\n",
    "Business Actions\n",
    "Once we have a clear view of the Segments above, specific actions can be planned across the Business (Operations, Marketing, Product, etc...) to address any potential issues;\n",
    "\n",
    "High Value:\n",
    "1.Improve Retention of these customers as they are the most valuable asset\n",
    "\n",
    "Mid Value:\n",
    "1.Increase Attention and Frequency and bring them closer to the brand and the product so eventually they become High Value\n",
    "\n",
    "Low Value:\n",
    "1.Increase Frequency and understand if there are any potential issues around the product or service"
   ]
  },
  {
   "cell_type": "markdown",
   "metadata": {},
   "source": [
    "#### According to the model we concluded that mid value segment are most valuable to the store to do loyalty campaign for customers who are very valuable to them"
   ]
  },
  {
   "cell_type": "code",
   "execution_count": 90,
   "metadata": {},
   "outputs": [],
   "source": [
    "file=open('model.pkl','wb')\n",
    "joblib.dump(kmeans,file)\n",
    "file.close()"
   ]
  },
  {
   "cell_type": "code",
   "execution_count": 91,
   "metadata": {},
   "outputs": [],
   "source": [
    "model=joblib.load(open('model.pkl','rb'))"
   ]
  },
  {
   "cell_type": "code",
   "execution_count": 96,
   "metadata": {},
   "outputs": [
    {
     "data": {
      "text/plain": [
       "array([2])"
      ]
     },
     "execution_count": 96,
     "metadata": {},
     "output_type": "execute_result"
    }
   ],
   "source": [
    "model.predict([['10000','3','30']])"
   ]
  },
  {
   "cell_type": "code",
   "execution_count": null,
   "metadata": {},
   "outputs": [],
   "source": []
  }
 ],
 "metadata": {
  "kernelspec": {
   "display_name": "Python 3",
   "language": "python",
   "name": "python3"
  },
  "language_info": {
   "codemirror_mode": {
    "name": "ipython",
    "version": 3
   },
   "file_extension": ".py",
   "mimetype": "text/x-python",
   "name": "python",
   "nbconvert_exporter": "python",
   "pygments_lexer": "ipython3",
   "version": "3.7.6"
  }
 },
 "nbformat": 4,
 "nbformat_minor": 4
}
